{
 "cells": [
  {
   "cell_type": "code",
   "execution_count": 7,
   "metadata": {},
   "outputs": [
    {
     "data": {
      "text/html": [
       "<div>\n",
       "<style scoped>\n",
       "    .dataframe tbody tr th:only-of-type {\n",
       "        vertical-align: middle;\n",
       "    }\n",
       "\n",
       "    .dataframe tbody tr th {\n",
       "        vertical-align: top;\n",
       "    }\n",
       "\n",
       "    .dataframe thead th {\n",
       "        text-align: right;\n",
       "    }\n",
       "</style>\n",
       "<table border=\"1\" class=\"dataframe\">\n",
       "  <thead>\n",
       "    <tr style=\"text-align: right;\">\n",
       "      <th></th>\n",
       "      <th>airline</th>\n",
       "      <th>src</th>\n",
       "      <th>dst</th>\n",
       "      <th>routeId</th>\n",
       "      <th>date</th>\n",
       "      <th>name_src</th>\n",
       "      <th>city_src</th>\n",
       "      <th>country_src</th>\n",
       "      <th>src_lng</th>\n",
       "      <th>src_lat</th>\n",
       "      <th>...</th>\n",
       "      <th>dst_lat</th>\n",
       "      <th>airportId_dst</th>\n",
       "      <th>Covid confirmed cases_dst</th>\n",
       "      <th>Monkeypox confirmed cases_dst</th>\n",
       "      <th>airline_name</th>\n",
       "      <th>airline_country</th>\n",
       "      <th>airlineId</th>\n",
       "      <th>flow count</th>\n",
       "      <th>date_str</th>\n",
       "      <th>cases</th>\n",
       "    </tr>\n",
       "  </thead>\n",
       "  <tbody>\n",
       "    <tr>\n",
       "      <th>0</th>\n",
       "      <td>4</td>\n",
       "      <td>1965</td>\n",
       "      <td>3307</td>\n",
       "      <td>2357</td>\n",
       "      <td>2030-01-01 00:00:00</td>\n",
       "      <td>La Tontouta</td>\n",
       "      <td>Noumea</td>\n",
       "      <td>New Caledonia</td>\n",
       "      <td>166.212972</td>\n",
       "      <td>-22.014553</td>\n",
       "      <td>...</td>\n",
       "      <td>38.965667</td>\n",
       "      <td>3307</td>\n",
       "      <td>113614.0</td>\n",
       "      <td>NaN</td>\n",
       "      <td>China Eastern Airlines</td>\n",
       "      <td>China</td>\n",
       "      <td>4</td>\n",
       "      <td>4</td>\n",
       "      <td>2030-01-01 00:00:00</td>\n",
       "      <td>NaN</td>\n",
       "    </tr>\n",
       "    <tr>\n",
       "      <th>1</th>\n",
       "      <td>5</td>\n",
       "      <td>575</td>\n",
       "      <td>3307</td>\n",
       "      <td>3620</td>\n",
       "      <td>2030-01-01 00:00:00</td>\n",
       "      <td>Mount Pleasant</td>\n",
       "      <td>Mount Pleasant</td>\n",
       "      <td>Falkland Islands</td>\n",
       "      <td>-58.447222</td>\n",
       "      <td>-51.822777</td>\n",
       "      <td>...</td>\n",
       "      <td>38.965667</td>\n",
       "      <td>3307</td>\n",
       "      <td>113614.0</td>\n",
       "      <td>NaN</td>\n",
       "      <td>Air China</td>\n",
       "      <td>China</td>\n",
       "      <td>5</td>\n",
       "      <td>4</td>\n",
       "      <td>2030-01-01 00:00:00</td>\n",
       "      <td>NaN</td>\n",
       "    </tr>\n",
       "    <tr>\n",
       "      <th>2</th>\n",
       "      <td>3</td>\n",
       "      <td>575</td>\n",
       "      <td>3307</td>\n",
       "      <td>9518</td>\n",
       "      <td>2030-01-01 00:00:00</td>\n",
       "      <td>Mount Pleasant</td>\n",
       "      <td>Mount Pleasant</td>\n",
       "      <td>Falkland Islands</td>\n",
       "      <td>-58.447222</td>\n",
       "      <td>-51.822777</td>\n",
       "      <td>...</td>\n",
       "      <td>38.965667</td>\n",
       "      <td>3307</td>\n",
       "      <td>113614.0</td>\n",
       "      <td>NaN</td>\n",
       "      <td>Southwest Airlines</td>\n",
       "      <td>United States</td>\n",
       "      <td>3</td>\n",
       "      <td>4</td>\n",
       "      <td>2030-01-01 00:00:00</td>\n",
       "      <td>NaN</td>\n",
       "    </tr>\n",
       "    <tr>\n",
       "      <th>3</th>\n",
       "      <td>3</td>\n",
       "      <td>3786</td>\n",
       "      <td>3307</td>\n",
       "      <td>9532</td>\n",
       "      <td>2030-01-01 00:00:00</td>\n",
       "      <td>Robins Afb</td>\n",
       "      <td>Macon</td>\n",
       "      <td>United States</td>\n",
       "      <td>-83.591850</td>\n",
       "      <td>32.640144</td>\n",
       "      <td>...</td>\n",
       "      <td>38.965667</td>\n",
       "      <td>3307</td>\n",
       "      <td>113614.0</td>\n",
       "      <td>NaN</td>\n",
       "      <td>Southwest Airlines</td>\n",
       "      <td>United States</td>\n",
       "      <td>3</td>\n",
       "      <td>3</td>\n",
       "      <td>2030-01-01 00:00:00</td>\n",
       "      <td>NaN</td>\n",
       "    </tr>\n",
       "    <tr>\n",
       "      <th>4</th>\n",
       "      <td>4</td>\n",
       "      <td>1358</td>\n",
       "      <td>3307</td>\n",
       "      <td>2427</td>\n",
       "      <td>2030-01-01 00:00:00</td>\n",
       "      <td>Creil</td>\n",
       "      <td>Creil</td>\n",
       "      <td>France</td>\n",
       "      <td>2.519139</td>\n",
       "      <td>49.253547</td>\n",
       "      <td>...</td>\n",
       "      <td>38.965667</td>\n",
       "      <td>3307</td>\n",
       "      <td>113614.0</td>\n",
       "      <td>NaN</td>\n",
       "      <td>China Eastern Airlines</td>\n",
       "      <td>China</td>\n",
       "      <td>4</td>\n",
       "      <td>2</td>\n",
       "      <td>2030-01-01 00:00:00</td>\n",
       "      <td>5840067.0</td>\n",
       "    </tr>\n",
       "  </tbody>\n",
       "</table>\n",
       "<p>5 rows × 27 columns</p>\n",
       "</div>"
      ],
      "text/plain": [
       "   airline   src   dst  routeId                 date        name_src  \\\n",
       "0        4  1965  3307     2357  2030-01-01 00:00:00     La Tontouta   \n",
       "1        5   575  3307     3620  2030-01-01 00:00:00  Mount Pleasant   \n",
       "2        3   575  3307     9518  2030-01-01 00:00:00  Mount Pleasant   \n",
       "3        3  3786  3307     9532  2030-01-01 00:00:00      Robins Afb   \n",
       "4        4  1358  3307     2427  2030-01-01 00:00:00           Creil   \n",
       "\n",
       "         city_src       country_src     src_lng    src_lat  ...    dst_lat  \\\n",
       "0          Noumea     New Caledonia  166.212972 -22.014553  ...  38.965667   \n",
       "1  Mount Pleasant  Falkland Islands  -58.447222 -51.822777  ...  38.965667   \n",
       "2  Mount Pleasant  Falkland Islands  -58.447222 -51.822777  ...  38.965667   \n",
       "3           Macon     United States  -83.591850  32.640144  ...  38.965667   \n",
       "4           Creil            France    2.519139  49.253547  ...  38.965667   \n",
       "\n",
       "   airportId_dst  Covid confirmed cases_dst Monkeypox confirmed cases_dst  \\\n",
       "0           3307                   113614.0                           NaN   \n",
       "1           3307                   113614.0                           NaN   \n",
       "2           3307                   113614.0                           NaN   \n",
       "3           3307                   113614.0                           NaN   \n",
       "4           3307                   113614.0                           NaN   \n",
       "\n",
       "             airline_name airline_country  airlineId  flow count  \\\n",
       "0  China Eastern Airlines           China          4           4   \n",
       "1               Air China           China          5           4   \n",
       "2      Southwest Airlines   United States          3           4   \n",
       "3      Southwest Airlines   United States          3           3   \n",
       "4  China Eastern Airlines           China          4           2   \n",
       "\n",
       "              date_str      cases  \n",
       "0  2030-01-01 00:00:00        NaN  \n",
       "1  2030-01-01 00:00:00        NaN  \n",
       "2  2030-01-01 00:00:00        NaN  \n",
       "3  2030-01-01 00:00:00        NaN  \n",
       "4  2030-01-01 00:00:00  5840067.0  \n",
       "\n",
       "[5 rows x 27 columns]"
      ]
     },
     "execution_count": 7,
     "metadata": {},
     "output_type": "execute_result"
    }
   ],
   "source": [
    "import pandas as pd\n",
    "df = pd.read_csv(\"./flights edited.csv\")\n",
    "# add a random number (between 0-5) to the flow count column\n",
    "import numpy as np\n",
    "df[\"flow count\"] = df[\"flow count\"] + np.random.randint(0, 5, df.shape[0])\n",
    "df[\"cases\"] = df[\"Covid confirmed cases_src\"]\n",
    "df[\"date\"] = df[\"date_str\"]\n",
    "df.head()"
   ]
  },
  {
   "cell_type": "code",
   "execution_count": 8,
   "metadata": {},
   "outputs": [
    {
     "data": {
      "text/plain": [
       "airline                            int64\n",
       "src                                int64\n",
       "dst                                int64\n",
       "routeId                            int64\n",
       "date                              object\n",
       "name_src                          object\n",
       "city_src                          object\n",
       "country_src                       object\n",
       "src_lng                          float64\n",
       "src_lat                          float64\n",
       "airportId_src                      int64\n",
       "Covid confirmed cases_src        float64\n",
       "Monkeypox confirmed cases_src    float64\n",
       "name_dst                          object\n",
       "city_dst                          object\n",
       "country_dst                       object\n",
       "dst_lng                          float64\n",
       "dst_lat                          float64\n",
       "airportId_dst                      int64\n",
       "Covid confirmed cases_dst        float64\n",
       "Monkeypox confirmed cases_dst    float64\n",
       "airline_name                      object\n",
       "airline_country                   object\n",
       "airlineId                          int64\n",
       "flow count                         int64\n",
       "date_str                          object\n",
       "cases                            float64\n",
       "dtype: object"
      ]
     },
     "execution_count": 8,
     "metadata": {},
     "output_type": "execute_result"
    }
   ],
   "source": [
    "df.dtypes"
   ]
  },
  {
   "cell_type": "code",
   "execution_count": 9,
   "metadata": {},
   "outputs": [
    {
     "name": "stdout",
     "output_type": "stream",
     "text": [
      "User Guide: https://docs.kepler.gl/docs/keplergl-jupyter\n"
     ]
    },
    {
     "name": "stderr",
     "output_type": "stream",
     "text": [
      "/opt/homebrew/Caskroom/mambaforge/base/envs/geo/lib/python3.11/site-packages/jupyter_client/session.py:719: UserWarning: Message serialization failed with:\n",
      "Out of range float values are not JSON compliant\n",
      "Supporting this message is deprecated in jupyter-client 7, please make sure your message is JSON-compliant\n",
      "  content = self.pack(content)\n"
     ]
    },
    {
     "data": {
      "application/vnd.jupyter.widget-view+json": {
       "model_id": "82bb55c0641143c5849bfb9ef7c4fcd4",
       "version_major": 2,
       "version_minor": 0
      },
      "text/plain": [
       "KeplerGl(data={'flights': {'index': [0, 1, 2, 3, 4, 5, 6, 7, 8, 9, 10, 11, 12, 13, 14, 15, 16, 17, 18, 19, 20,…"
      ]
     },
     "metadata": {},
     "output_type": "display_data"
    }
   ],
   "source": [
    "from keplergl import KeplerGl\n",
    "\n",
    "map_1 = KeplerGl(height=600, width=800)\n",
    "map_1.add_data(data=df, name=\"flights\")\n",
    "map_1\n"
   ]
  },
  {
   "cell_type": "code",
   "execution_count": 13,
   "metadata": {},
   "outputs": [],
   "source": [
    "# save config\n",
    "import json\n",
    "config = map_1.config\n",
    "with open(\"config.json\", \"w\") as f:\n",
    "    f.write(json.dumps(config))\n",
    "\n"
   ]
  },
  {
   "cell_type": "markdown",
   "metadata": {},
   "source": [
    "## Fine tune the maps"
   ]
  },
  {
   "cell_type": "code",
   "execution_count": 19,
   "metadata": {},
   "outputs": [
    {
     "data": {
      "text/plain": [
       "(66495513.0, 2104.0)"
      ]
     },
     "execution_count": 19,
     "metadata": {},
     "output_type": "execute_result"
    }
   ],
   "source": [
    "df[\"Covid confirmed cases_src\"].max(), df[\"Covid confirmed cases_src\"].min()"
   ]
  },
  {
   "cell_type": "code",
   "execution_count": 21,
   "metadata": {},
   "outputs": [
    {
     "data": {
      "text/plain": [
       "3000000.0"
      ]
     },
     "execution_count": 21,
     "metadata": {},
     "output_type": "execute_result"
    }
   ],
   "source": []
  },
  {
   "cell_type": "code",
   "execution_count": 20,
   "metadata": {},
   "outputs": [
    {
     "data": {
      "text/plain": [
       "<Axes: >"
      ]
     },
     "execution_count": 20,
     "metadata": {},
     "output_type": "execute_result"
    },
    {
     "data": {
      "image/png": "[encoded data removed]",
      "text/plain": [
       "<Figure size 640x480 with 1 Axes>"
      ]
     },
     "metadata": {},
     "output_type": "display_data"
    }
   ],
   "source": [
    "df[\"Covid confirmed cases_src\"].hist(bins=100)"
   ]
  },
  {
   "cell_type": "code",
   "execution_count": 23,
   "metadata": {},
   "outputs": [],
   "source": [
    "import pandas as pd\n",
    "df = pd.read_csv(\"./flights edited.csv\")\n",
    "# add a random number (between 0-5) to the flow count column\n",
    "import numpy as np\n",
    "df[\"flow count\"] = df[\"flow count\"] + np.random.randint(0, 3, df.shape[0])\n",
    "df[\"Covid confirmed cases_src\"] = df[\"Covid confirmed cases_src\"] + np.random.randint(0, 3000000, df.shape[0])\n",
    "df[\"date\"] = df[\"date_str\"]\n"
   ]
  },
  {
   "cell_type": "code",
   "execution_count": 25,
   "metadata": {},
   "outputs": [],
   "source": [
    "df.drop(columns=[\"date_str\"], inplace=True, axis=1)"
   ]
  },
  {
   "cell_type": "code",
   "execution_count": 26,
   "metadata": {},
   "outputs": [],
   "source": [
    "df.to_csv(\"./flights edited.csv\", index=False)"
   ]
  },
  {
   "cell_type": "code",
   "execution_count": 33,
   "metadata": {},
   "outputs": [
    {
     "data": {
      "text/plain": [
       "airline                            int64\n",
       "src                                int64\n",
       "dst                                int64\n",
       "routeId                            int64\n",
       "date                              object\n",
       "name_src                          object\n",
       "city_src                          object\n",
       "country_src                       object\n",
       "src_lng                          float64\n",
       "src_lat                          float64\n",
       "airportId_src                      int64\n",
       "Covid confirmed cases_src        float64\n",
       "Monkeypox confirmed cases_src    float64\n",
       "name_dst                          object\n",
       "city_dst                          object\n",
       "country_dst                       object\n",
       "dst_lng                          float64\n",
       "dst_lat                          float64\n",
       "airportId_dst                      int64\n",
       "Covid confirmed cases_dst        float64\n",
       "Monkeypox confirmed cases_dst    float64\n",
       "airline_name                      object\n",
       "airline_country                   object\n",
       "airlineId                          int64\n",
       "flow count                         int64\n",
       "cases                            float64\n",
       "dtype: object"
      ]
     },
     "execution_count": 33,
     "metadata": {},
     "output_type": "execute_result"
    }
   ],
   "source": [
    "df.dtypes"
   ]
  },
  {
   "cell_type": "code",
   "execution_count": 34,
   "metadata": {},
   "outputs": [],
   "source": [
    "df.fillna({\"Covid confirmed cases_src\": 0, \"Covid confirmed cases_dst\": 0, \n",
    "           \"Monkeypox confirmed cases_src\": 0, \"Monkeypox confirmed cases_dst\": 0,\n",
    "           \"flow count\": 0}, inplace=True)"
   ]
  },
  {
   "cell_type": "code",
   "execution_count": null,
   "metadata": {},
   "outputs": [],
   "source": [
    "# replace the Covid confirmed cases_src value 1 with 0\n",
    "\n",
    "df.loc[df[\"Covid confirmed cases_src\"] == 1, \"Covid confirmed cases_src\"] = 0\n",
    "df.loc[df[\"Covid confirmed cases_dst\"] == 1, \"Covid confirmed cases_dst\"] = 0\n",
    "df.loc[df[\"Monkeypox confirmed cases_src\"] == 1, \"Monkeypox confirmed cases_src\"] = 0\n",
    "df.loc[df[\"Monkeypox confirmed cases_dst\"] == 1, \"Monkeypox confirmed cases_dst\"] = 0\n"
   ]
  },
  {
   "cell_type": "code",
   "execution_count": 39,
   "metadata": {},
   "outputs": [],
   "source": [
    "df.to_csv(\"./flights edited.csv\", index=False)"
   ]
  },
  {
   "cell_type": "code",
   "execution_count": 53,
   "metadata": {},
   "outputs": [
    {
     "name": "stdout",
     "output_type": "stream",
     "text": [
      "User Guide: https://docs.kepler.gl/docs/keplergl-jupyter\n"
     ]
    },
    {
     "data": {
      "application/vnd.jupyter.widget-view+json": {
       "model_id": "2e04021a0f5345529d29604f672c5082",
       "version_major": 2,
       "version_minor": 0
      },
      "text/plain": [
       "KeplerGl(config={'version': 'v1', 'config': {'visState': {'filters': [{'dataId': ['flights'], 'id': 'lil4yvp7'…"
      ]
     },
     "metadata": {},
     "output_type": "display_data"
    }
   ],
   "source": [
    "import pandas as pd\n",
    "df = pd.read_csv(\"./flights edited.csv\")\n",
    "\n",
    "df[\"cases\"] = df[\"Covid confirmed cases_src\"]\n",
    "\n",
    "# map cov\n",
    "# load config\n",
    "with open(\"config.json\", \"r\") as f:\n",
    "    config = json.loads(f.read())\n",
    "map_2 = KeplerGl(height=600, width=800, config=config)\n",
    "map_2.add_data(data=df.copy(), name=\"flights\")\n",
    "map_2"
   ]
  },
  {
   "cell_type": "code",
   "execution_count": 52,
   "metadata": {},
   "outputs": [],
   "source": [
    "config = map_2.config\n",
    "with open(\"config.json\", \"w\") as f:\n",
    "    f.write(json.dumps(config))\n",
    "    "
   ]
  }
 ],
 "metadata": {
  "kernelspec": {
   "display_name": "geo",
   "language": "python",
   "name": "python3"
  },
  "language_info": {
   "codemirror_mode": {
    "name": "ipython",
    "version": 3
   },
   "file_extension": ".py",
   "mimetype": "text/x-python",
   "name": "python",
   "nbconvert_exporter": "python",
   "pygments_lexer": "ipython3",
   "version": "3.11.4"
  },
  "orig_nbformat": 4
 },
 "nbformat": 4,
 "nbformat_minor": 2
}
