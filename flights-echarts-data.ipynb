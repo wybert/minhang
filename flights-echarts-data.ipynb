{
 "cells": [
  {
   "cell_type": "code",
   "execution_count": 2,
   "metadata": {},
   "outputs": [
    {
     "data": {
      "text/plain": [
       "dict_keys(['airportsFields', 'airlineFields', 'airports', 'airlines', 'routes'])"
      ]
     },
     "execution_count": 2,
     "metadata": {},
     "output_type": "execute_result"
    }
   ],
   "source": [
    "import json\n",
    "import pandas as pd\n",
    "\n",
    "flights_json = json.load(open('flights.json'))\n",
    "flights_json.keys()"
   ]
  },
  {
   "cell_type": "markdown",
   "metadata": {},
   "source": [
    "## Airports"
   ]
  },
  {
   "cell_type": "code",
   "execution_count": 3,
   "metadata": {},
   "outputs": [
    {
     "data": {
      "text/html": [
       "<div>\n",
       "<style scoped>\n",
       "    .dataframe tbody tr th:only-of-type {\n",
       "        vertical-align: middle;\n",
       "    }\n",
       "\n",
       "    .dataframe tbody tr th {\n",
       "        vertical-align: top;\n",
       "    }\n",
       "\n",
       "    .dataframe thead th {\n",
       "        text-align: right;\n",
       "    }\n",
       "</style>\n",
       "<table border=\"1\" class=\"dataframe\">\n",
       "  <thead>\n",
       "    <tr style=\"text-align: right;\">\n",
       "      <th></th>\n",
       "      <th>name</th>\n",
       "      <th>city</th>\n",
       "      <th>country</th>\n",
       "      <th>longitude</th>\n",
       "      <th>latitude</th>\n",
       "      <th>airportId</th>\n",
       "    </tr>\n",
       "  </thead>\n",
       "  <tbody>\n",
       "    <tr>\n",
       "      <th>0</th>\n",
       "      <td>Goroka</td>\n",
       "      <td>Goroka</td>\n",
       "      <td>Papua New Guinea</td>\n",
       "      <td>145.391881</td>\n",
       "      <td>-6.081689</td>\n",
       "      <td>1</td>\n",
       "    </tr>\n",
       "    <tr>\n",
       "      <th>1</th>\n",
       "      <td>Madang</td>\n",
       "      <td>Madang</td>\n",
       "      <td>Papua New Guinea</td>\n",
       "      <td>145.788700</td>\n",
       "      <td>-5.207083</td>\n",
       "      <td>2</td>\n",
       "    </tr>\n",
       "    <tr>\n",
       "      <th>2</th>\n",
       "      <td>Mount Hagen</td>\n",
       "      <td>Mount Hagen</td>\n",
       "      <td>Papua New Guinea</td>\n",
       "      <td>144.295861</td>\n",
       "      <td>-5.826789</td>\n",
       "      <td>3</td>\n",
       "    </tr>\n",
       "    <tr>\n",
       "      <th>3</th>\n",
       "      <td>Nadzab</td>\n",
       "      <td>Nadzab</td>\n",
       "      <td>Papua New Guinea</td>\n",
       "      <td>146.726242</td>\n",
       "      <td>-6.569828</td>\n",
       "      <td>4</td>\n",
       "    </tr>\n",
       "    <tr>\n",
       "      <th>4</th>\n",
       "      <td>Port Moresby Jacksons Intl</td>\n",
       "      <td>Port Moresby</td>\n",
       "      <td>Papua New Guinea</td>\n",
       "      <td>147.220050</td>\n",
       "      <td>-9.443383</td>\n",
       "      <td>5</td>\n",
       "    </tr>\n",
       "  </tbody>\n",
       "</table>\n",
       "</div>"
      ],
      "text/plain": [
       "                         name          city           country   longitude  \\\n",
       "0                      Goroka        Goroka  Papua New Guinea  145.391881   \n",
       "1                      Madang        Madang  Papua New Guinea  145.788700   \n",
       "2                 Mount Hagen   Mount Hagen  Papua New Guinea  144.295861   \n",
       "3                      Nadzab        Nadzab  Papua New Guinea  146.726242   \n",
       "4  Port Moresby Jacksons Intl  Port Moresby  Papua New Guinea  147.220050   \n",
       "\n",
       "   latitude  airportId  \n",
       "0 -6.081689          1  \n",
       "1 -5.207083          2  \n",
       "2 -5.826789          3  \n",
       "3 -6.569828          4  \n",
       "4 -9.443383          5  "
      ]
     },
     "execution_count": 3,
     "metadata": {},
     "output_type": "execute_result"
    }
   ],
   "source": [
    "import geopandas as gpd\n",
    "airports = pd.DataFrame(flights_json[\"airports\"], columns = flights_json[\"airportsFields\"])\n",
    "airports[\"airportId\"] = range(1, len(airports) + 1)\n",
    "airports_gdf = gpd.GeoDataFrame(airports, geometry=gpd.points_from_xy(airports.longitude, airports.latitude), crs=\"EPSG:4326\")\n",
    "airports.head()"
   ]
  },
  {
   "cell_type": "markdown",
   "metadata": {},
   "source": [
    "## Covid-cases"
   ]
  },
  {
   "cell_type": "code",
   "execution_count": 16,
   "metadata": {},
   "outputs": [
    {
     "name": "stderr",
     "output_type": "stream",
     "text": [
      "/opt/homebrew/Caskroom/mambaforge/base/envs/k1/lib/python3.11/site-packages/IPython/core/interactiveshell.py:3448: FutureWarning: The `op` parameter is deprecated and will be removed in a future release. Please use the `predicate` parameter instead.\n",
      "  if await self.run_code(code, result, async_=asy):\n"
     ]
    },
    {
     "data": {
      "text/html": [
       "<div>\n",
       "<style scoped>\n",
       "    .dataframe tbody tr th:only-of-type {\n",
       "        vertical-align: middle;\n",
       "    }\n",
       "\n",
       "    .dataframe tbody tr th {\n",
       "        vertical-align: top;\n",
       "    }\n",
       "\n",
       "    .dataframe thead th {\n",
       "        text-align: right;\n",
       "    }\n",
       "</style>\n",
       "<table border=\"1\" class=\"dataframe\">\n",
       "  <thead>\n",
       "    <tr style=\"text-align: right;\">\n",
       "      <th></th>\n",
       "      <th>name</th>\n",
       "      <th>city</th>\n",
       "      <th>country</th>\n",
       "      <th>longitude</th>\n",
       "      <th>latitude</th>\n",
       "      <th>airportId</th>\n",
       "      <th>date</th>\n",
       "      <th>Covid confirmed cases</th>\n",
       "    </tr>\n",
       "  </thead>\n",
       "  <tbody>\n",
       "    <tr>\n",
       "      <th>0</th>\n",
       "      <td>Goroka</td>\n",
       "      <td>Goroka</td>\n",
       "      <td>Papua New Guinea</td>\n",
       "      <td>145.391881</td>\n",
       "      <td>-6.081689</td>\n",
       "      <td>1</td>\n",
       "      <td>2020-01-22</td>\n",
       "      <td>0.0</td>\n",
       "    </tr>\n",
       "    <tr>\n",
       "      <th>1</th>\n",
       "      <td>Madang</td>\n",
       "      <td>Madang</td>\n",
       "      <td>Papua New Guinea</td>\n",
       "      <td>145.788700</td>\n",
       "      <td>-5.207083</td>\n",
       "      <td>2</td>\n",
       "      <td>2020-01-22</td>\n",
       "      <td>0.0</td>\n",
       "    </tr>\n",
       "    <tr>\n",
       "      <th>2</th>\n",
       "      <td>Mount Hagen</td>\n",
       "      <td>Mount Hagen</td>\n",
       "      <td>Papua New Guinea</td>\n",
       "      <td>144.295861</td>\n",
       "      <td>-5.826789</td>\n",
       "      <td>3</td>\n",
       "      <td>2020-01-22</td>\n",
       "      <td>0.0</td>\n",
       "    </tr>\n",
       "    <tr>\n",
       "      <th>3</th>\n",
       "      <td>Nadzab</td>\n",
       "      <td>Nadzab</td>\n",
       "      <td>Papua New Guinea</td>\n",
       "      <td>146.726242</td>\n",
       "      <td>-6.569828</td>\n",
       "      <td>4</td>\n",
       "      <td>2020-01-22</td>\n",
       "      <td>0.0</td>\n",
       "    </tr>\n",
       "    <tr>\n",
       "      <th>4</th>\n",
       "      <td>Port Moresby Jacksons Intl</td>\n",
       "      <td>Port Moresby</td>\n",
       "      <td>Papua New Guinea</td>\n",
       "      <td>147.220050</td>\n",
       "      <td>-9.443383</td>\n",
       "      <td>5</td>\n",
       "      <td>2020-01-22</td>\n",
       "      <td>0.0</td>\n",
       "    </tr>\n",
       "    <tr>\n",
       "      <th>...</th>\n",
       "      <td>...</td>\n",
       "      <td>...</td>\n",
       "      <td>...</td>\n",
       "      <td>...</td>\n",
       "      <td>...</td>\n",
       "      <td>...</td>\n",
       "      <td>...</td>\n",
       "      <td>...</td>\n",
       "    </tr>\n",
       "    <tr>\n",
       "      <th>6655842</th>\n",
       "      <td>Mansons Landing Water Aerodrome</td>\n",
       "      <td>Mansons Landing</td>\n",
       "      <td>Canada</td>\n",
       "      <td>-124.983333</td>\n",
       "      <td>50.066667</td>\n",
       "      <td>8103</td>\n",
       "      <td>2022-04-21</td>\n",
       "      <td>3679701.0</td>\n",
       "    </tr>\n",
       "    <tr>\n",
       "      <th>6655843</th>\n",
       "      <td>Port McNeill Airport</td>\n",
       "      <td>Port McNeill</td>\n",
       "      <td>Canada</td>\n",
       "      <td>-127.028611</td>\n",
       "      <td>50.575556</td>\n",
       "      <td>8104</td>\n",
       "      <td>2022-04-21</td>\n",
       "      <td>3679701.0</td>\n",
       "    </tr>\n",
       "    <tr>\n",
       "      <th>6655844</th>\n",
       "      <td>Sullivan Bay Water Aerodrome</td>\n",
       "      <td>Sullivan Bay</td>\n",
       "      <td>Canada</td>\n",
       "      <td>-126.833333</td>\n",
       "      <td>50.883333</td>\n",
       "      <td>8105</td>\n",
       "      <td>2022-04-21</td>\n",
       "      <td>NaN</td>\n",
       "    </tr>\n",
       "    <tr>\n",
       "      <th>6655845</th>\n",
       "      <td>Deer Harbor Seaplane</td>\n",
       "      <td>Deer Harbor</td>\n",
       "      <td>United States</td>\n",
       "      <td>-123.005960</td>\n",
       "      <td>48.618397</td>\n",
       "      <td>8106</td>\n",
       "      <td>2022-04-21</td>\n",
       "      <td>NaN</td>\n",
       "    </tr>\n",
       "    <tr>\n",
       "      <th>6655846</th>\n",
       "      <td>San Diego Old Town Transit Center</td>\n",
       "      <td>San Diego</td>\n",
       "      <td>United States</td>\n",
       "      <td>-117.199500</td>\n",
       "      <td>32.755200</td>\n",
       "      <td>8107</td>\n",
       "      <td>2022-04-21</td>\n",
       "      <td>NaN</td>\n",
       "    </tr>\n",
       "  </tbody>\n",
       "</table>\n",
       "<p>6655847 rows × 8 columns</p>\n",
       "</div>"
      ],
      "text/plain": [
       "                                      name             city           country  \\\n",
       "0                                   Goroka           Goroka  Papua New Guinea   \n",
       "1                                   Madang           Madang  Papua New Guinea   \n",
       "2                              Mount Hagen      Mount Hagen  Papua New Guinea   \n",
       "3                                   Nadzab           Nadzab  Papua New Guinea   \n",
       "4               Port Moresby Jacksons Intl     Port Moresby  Papua New Guinea   \n",
       "...                                    ...              ...               ...   \n",
       "6655842    Mansons Landing Water Aerodrome  Mansons Landing            Canada   \n",
       "6655843               Port McNeill Airport     Port McNeill            Canada   \n",
       "6655844       Sullivan Bay Water Aerodrome     Sullivan Bay            Canada   \n",
       "6655845               Deer Harbor Seaplane      Deer Harbor     United States   \n",
       "6655846  San Diego Old Town Transit Center        San Diego     United States   \n",
       "\n",
       "          longitude   latitude  airportId       date  Covid confirmed cases  \n",
       "0        145.391881  -6.081689          1 2020-01-22                    0.0  \n",
       "1        145.788700  -5.207083          2 2020-01-22                    0.0  \n",
       "2        144.295861  -5.826789          3 2020-01-22                    0.0  \n",
       "3        146.726242  -6.569828          4 2020-01-22                    0.0  \n",
       "4        147.220050  -9.443383          5 2020-01-22                    0.0  \n",
       "...             ...        ...        ...        ...                    ...  \n",
       "6655842 -124.983333  50.066667       8103 2022-04-21              3679701.0  \n",
       "6655843 -127.028611  50.575556       8104 2022-04-21              3679701.0  \n",
       "6655844 -126.833333  50.883333       8105 2022-04-21                    NaN  \n",
       "6655845 -123.005960  48.618397       8106 2022-04-21                    NaN  \n",
       "6655846 -117.199500  32.755200       8107 2022-04-21                    NaN  \n",
       "\n",
       "[6655847 rows x 8 columns]"
      ]
     },
     "execution_count": 16,
     "metadata": {},
     "output_type": "execute_result"
    }
   ],
   "source": [
    "import pandas as pd\n",
    "import geopandas as gpd\n",
    "covid = pd.read_csv('./data_Confirmed.csv')\n",
    "world_basemap = gpd.read_file(\"./World_Map_0302.zip\")\n",
    "covid = world_basemap.merge(covid, left_on = \"CNTRY_NAME\", right_on = \"Country/Region\")\n",
    "\n",
    "non_date_cols = ['OBJECTID', 'CNTRY_NAME', 'Country_ID', 'Country_CH', 'Country_EN', 'Conf0219', 'Heal0219', 'Dead0219', \n",
    "'Conf0220', 'Heal0220', 'Dead0220', 'Conf0221', 'Heal0221', 'Dead0221', 'Conf0222', \n",
    "'Heal0222', 'Dead0222', 'Conf0223', 'Heal0223', 'Dead0223', 'Conf0224', 'Heal0224', 'Dead0224', \n",
    "'Conf0225', 'Heal0225', 'Dead0225', 'Conf0226', 'Heal0226', 'Dead0226', 'Conf0227', 'Heal0227', \n",
    "'Dead0227', 'Conf0228', 'Heal0228', 'Dead0228', 'Conf0229', 'Heal0229', 'Dead0229', 'Conf0301', \n",
    "'Heal0301', 'Dead0301', 'Conf0302', 'Heal0302', 'Dead0302', 'geometry', 'Country/Region']\n",
    "date_cols = [col for col in covid.columns if col not in non_date_cols]\n",
    "# join the covid data to airports\n",
    "airports_gdf_cov = gpd.sjoin(airports_gdf, covid, how=\"left\", op=\"intersects\")\n",
    "airports_gdf_cov = airports_gdf_cov[airports_gdf.columns.tolist() + date_cols]\n",
    "\n",
    "airports_gdf_cov = pd.melt(airports_gdf_cov, id_vars=airports_gdf.columns.tolist(),\n",
    "             value_vars= date_cols, \n",
    "             var_name=\"date\", value_name=\"Covid confirmed cases\")\n",
    "airports_gdf_cov.drop(columns=[\"geometry\"], inplace=True, axis=1)\n",
    "airports_gdf_cov[\"date\"] = pd.to_datetime(airports_gdf_cov[\"date\"])\n",
    "airports_gdf_cov"
   ]
  },
  {
   "cell_type": "code",
   "execution_count": 17,
   "metadata": {},
   "outputs": [
    {
     "data": {
      "text/plain": [
       "<Axes: xlabel='date'>"
      ]
     },
     "execution_count": 17,
     "metadata": {},
     "output_type": "execute_result"
    },
    {
     "data": {
      "image/png": "[encoded data removed]",
      "text/plain": [
       "<Figure size 640x480 with 1 Axes>"
      ]
     },
     "metadata": {},
     "output_type": "display_data"
    }
   ],
   "source": [
    "# make a covid plot over time\n",
    "airports_gdf_cov.groupby(\"date\")[\"Covid confirmed cases\"].sum().plot()"
   ]
  },
  {
   "cell_type": "code",
   "execution_count": 18,
   "metadata": {},
   "outputs": [
    {
     "data": {
      "text/plain": [
       "(6655847, 8)"
      ]
     },
     "execution_count": 18,
     "metadata": {},
     "output_type": "execute_result"
    }
   ],
   "source": [
    "airports_gdf_cov.shape"
   ]
  },
  {
   "cell_type": "code",
   "execution_count": 19,
   "metadata": {},
   "outputs": [],
   "source": [
    "# get only 2021 年 7月 到8月的数据\n",
    "airports_gdf_cov = airports_gdf_cov[airports_gdf_cov[\"date\"] >= \"2021-07-01\"]\n",
    "airports_gdf_cov = airports_gdf_cov[airports_gdf_cov[\"date\"] <= \"2021-07-31\"]"
   ]
  },
  {
   "cell_type": "code",
   "execution_count": 20,
   "metadata": {},
   "outputs": [
    {
     "data": {
      "text/plain": [
       "(251317, 8)"
      ]
     },
     "execution_count": 20,
     "metadata": {},
     "output_type": "execute_result"
    }
   ],
   "source": [
    "airports_gdf_cov.shape"
   ]
  },
  {
   "cell_type": "code",
   "execution_count": 21,
   "metadata": {},
   "outputs": [
    {
     "data": {
      "text/plain": [
       "<Axes: xlabel='date'>"
      ]
     },
     "execution_count": 21,
     "metadata": {},
     "output_type": "execute_result"
    },
    {
     "data": {
      "image/png": "[encoded data removed]",
      "text/plain": [
       "<Figure size 640x480 with 1 Axes>"
      ]
     },
     "metadata": {},
     "output_type": "display_data"
    }
   ],
   "source": [
    "airports_gdf_cov.groupby(\"date\")[\"Covid confirmed cases\"].sum().plot()"
   ]
  },
  {
   "cell_type": "code",
   "execution_count": 22,
   "metadata": {},
   "outputs": [],
   "source": [
    "# map the date to from 2030-01-01 to 2030-01-31\n",
    "airports_gdf_cov[\"date\"] = airports_gdf_cov[\"date\"].apply(lambda x: x.strftime(\"%Y-%m-%d\"))\n",
    "airports_gdf_cov[\"date\"] = airports_gdf_cov[\"date\"].apply(lambda x: x.replace(\"2021\", \"2030\"))\n",
    "airports_gdf_cov[\"date\"] = airports_gdf_cov[\"date\"].apply(lambda x: x.replace(\"-07-\", \"-01-\"))\n",
    "\n",
    "airports_gdf_cov[\"date\"] = pd.to_datetime(airports_gdf_cov[\"date\"])\n"
   ]
  },
  {
   "cell_type": "code",
   "execution_count": 23,
   "metadata": {},
   "outputs": [
    {
     "data": {
      "text/plain": [
       "<Axes: xlabel='date'>"
      ]
     },
     "execution_count": 23,
     "metadata": {},
     "output_type": "execute_result"
    },
    {
     "data": {
      "image/png": "[encoded data removed]",
      "text/plain": [
       "<Figure size 640x480 with 1 Axes>"
      ]
     },
     "metadata": {},
     "output_type": "display_data"
    }
   ],
   "source": [
    "airports_gdf_cov.groupby(\"date\")[\"Covid confirmed cases\"].sum().plot()"
   ]
  },
  {
   "cell_type": "markdown",
   "metadata": {},
   "source": [
    "## monkeypox"
   ]
  },
  {
   "cell_type": "code",
   "execution_count": 35,
   "metadata": {},
   "outputs": [
    {
     "name": "stdout",
     "output_type": "stream",
     "text": [
      "(7308, 5)\n"
     ]
    },
    {
     "data": {
      "text/html": [
       "<div>\n",
       "<style scoped>\n",
       "    .dataframe tbody tr th:only-of-type {\n",
       "        vertical-align: middle;\n",
       "    }\n",
       "\n",
       "    .dataframe tbody tr th {\n",
       "        vertical-align: top;\n",
       "    }\n",
       "\n",
       "    .dataframe thead th {\n",
       "        text-align: right;\n",
       "    }\n",
       "</style>\n",
       "<table border=\"1\" class=\"dataframe\">\n",
       "  <thead>\n",
       "    <tr style=\"text-align: right;\">\n",
       "      <th></th>\n",
       "      <th>date</th>\n",
       "      <th>country</th>\n",
       "      <th>Monkeypox confirmed cases</th>\n",
       "    </tr>\n",
       "  </thead>\n",
       "  <tbody>\n",
       "    <tr>\n",
       "      <th>0</th>\n",
       "      <td>2022-04-22</td>\n",
       "      <td>Austria</td>\n",
       "      <td>0</td>\n",
       "    </tr>\n",
       "    <tr>\n",
       "      <th>1</th>\n",
       "      <td>2022-04-22</td>\n",
       "      <td>Belgium</td>\n",
       "      <td>0</td>\n",
       "    </tr>\n",
       "    <tr>\n",
       "      <th>2</th>\n",
       "      <td>2022-04-22</td>\n",
       "      <td>Bulgaria</td>\n",
       "      <td>0</td>\n",
       "    </tr>\n",
       "    <tr>\n",
       "      <th>3</th>\n",
       "      <td>2022-04-22</td>\n",
       "      <td>Croatia</td>\n",
       "      <td>0</td>\n",
       "    </tr>\n",
       "    <tr>\n",
       "      <th>4</th>\n",
       "      <td>2022-04-22</td>\n",
       "      <td>Cyprus</td>\n",
       "      <td>0</td>\n",
       "    </tr>\n",
       "  </tbody>\n",
       "</table>\n",
       "</div>"
      ],
      "text/plain": [
       "        date   country  Monkeypox confirmed cases\n",
       "0 2022-04-22   Austria                          0\n",
       "1 2022-04-22   Belgium                          0\n",
       "2 2022-04-22  Bulgaria                          0\n",
       "3 2022-04-22   Croatia                          0\n",
       "4 2022-04-22    Cyprus                          0"
      ]
     },
     "execution_count": 35,
     "metadata": {},
     "output_type": "execute_result"
    }
   ],
   "source": [
    "import pandas as pd\n",
    "monkeypox = pd.read_csv('./monkeypox.csv')\n",
    "# replace the country name in monkeypox from Czechia to Czech Republic\n",
    "monkeypox[\"CountryExp\"].replace({\"Czechia\":\"Czech Republic\"}, inplace=True)\n",
    "print(monkeypox.shape)\n",
    "# merge the monkeypox data to world basemap\n",
    "monkeypox = world_basemap.merge(monkeypox, left_on = \"CNTRY_NAME\", right_on = \"CountryExp\", how=\"right\")\n",
    "monkeypox = monkeypox[['DateRep', 'CountryExp',\n",
    "        'ConfCases', 'geometry']]\n",
    "monkeypox.rename(columns={\"DateRep\":\"date\", \"CountryExp\":\"country\",  \"ConfCases\":\"Monkeypox confirmed cases\"}, inplace=True)\n",
    "monkeypox[\"date\"] = pd.to_datetime(monkeypox[\"date\"])\n",
    "monkeypox.drop(columns=[\"geometry\"], inplace=True)\n",
    "monkeypox.head()"
   ]
  },
  {
   "cell_type": "code",
   "execution_count": 36,
   "metadata": {},
   "outputs": [
    {
     "data": {
      "text/plain": [
       "<Axes: xlabel='date'>"
      ]
     },
     "execution_count": 36,
     "metadata": {},
     "output_type": "execute_result"
    },
    {
     "data": {
      "image/png": "[encoded data removed]",
      "text/plain": [
       "<Figure size 1000x500 with 1 Axes>"
      ]
     },
     "metadata": {},
     "output_type": "display_data"
    }
   ],
   "source": [
    "# make plot of monkeypox over time\n",
    "monkeypox.groupby(\"date\")[\"Monkeypox confirmed cases\"].sum().plot(figsize=(10, 5))\n"
   ]
  },
  {
   "cell_type": "code",
   "execution_count": 37,
   "metadata": {},
   "outputs": [
    {
     "data": {
      "text/plain": [
       "(812, 3)"
      ]
     },
     "execution_count": 37,
     "metadata": {},
     "output_type": "execute_result"
    }
   ],
   "source": [
    "# get July 2022 data\n",
    "monkeypox = monkeypox[monkeypox[\"date\"] >= \"2022-05-01\"]\n",
    "monkeypox = monkeypox[monkeypox[\"date\"] <= \"2022-05-31\"]\n",
    "monkeypox.shape"
   ]
  },
  {
   "cell_type": "code",
   "execution_count": 38,
   "metadata": {},
   "outputs": [
    {
     "data": {
      "text/plain": [
       "<Axes: xlabel='date'>"
      ]
     },
     "execution_count": 38,
     "metadata": {},
     "output_type": "execute_result"
    },
    {
     "data": {
      "image/png": "[encoded data removed]",
      "text/plain": [
       "<Figure size 1000x500 with 1 Axes>"
      ]
     },
     "metadata": {},
     "output_type": "display_data"
    }
   ],
   "source": [
    "# plot\n",
    "monkeypox.groupby(\"date\")[\"Monkeypox confirmed cases\"].sum().plot(figsize=(10, 5))"
   ]
  },
  {
   "cell_type": "code",
   "execution_count": 39,
   "metadata": {},
   "outputs": [],
   "source": [
    "# change it to 2030\n",
    "\n",
    "monkeypox[\"date\"] = monkeypox[\"date\"].apply(lambda x: x.strftime(\"%Y-%m-%d\"))\n",
    "monkeypox[\"date\"] = monkeypox[\"date\"].apply(lambda x: x.replace(\"2022\", \"2030\"))\n",
    "monkeypox[\"date\"] = monkeypox[\"date\"].apply(lambda x: x.replace(\"-05-\", \"-01-\"))\n",
    "\n",
    "monkeypox[\"date\"] = pd.to_datetime(monkeypox[\"date\"])"
   ]
  },
  {
   "cell_type": "code",
   "execution_count": 40,
   "metadata": {},
   "outputs": [
    {
     "data": {
      "text/plain": [
       "<Axes: xlabel='date'>"
      ]
     },
     "execution_count": 40,
     "metadata": {},
     "output_type": "execute_result"
    },
    {
     "data": {
      "image/png": "[encoded data removed]",
      "text/plain": [
       "<Figure size 1000x500 with 1 Axes>"
      ]
     },
     "metadata": {},
     "output_type": "display_data"
    }
   ],
   "source": [
    "# make plot\n",
    "\n",
    "monkeypox.groupby(\"date\")[\"Monkeypox confirmed cases\"].sum().plot(figsize=(10, 5))"
   ]
  },
  {
   "cell_type": "markdown",
   "metadata": {},
   "source": [
    "Should keep the timeline the same"
   ]
  },
  {
   "cell_type": "markdown",
   "metadata": {},
   "source": [
    "## join the monkeypox data with the airports data with time and country\n"
   ]
  },
  {
   "cell_type": "code",
   "execution_count": 42,
   "metadata": {},
   "outputs": [
    {
     "data": {
      "text/html": [
       "<div>\n",
       "<style scoped>\n",
       "    .dataframe tbody tr th:only-of-type {\n",
       "        vertical-align: middle;\n",
       "    }\n",
       "\n",
       "    .dataframe tbody tr th {\n",
       "        vertical-align: top;\n",
       "    }\n",
       "\n",
       "    .dataframe thead th {\n",
       "        text-align: right;\n",
       "    }\n",
       "</style>\n",
       "<table border=\"1\" class=\"dataframe\">\n",
       "  <thead>\n",
       "    <tr style=\"text-align: right;\">\n",
       "      <th></th>\n",
       "      <th>name</th>\n",
       "      <th>city</th>\n",
       "      <th>country</th>\n",
       "      <th>longitude</th>\n",
       "      <th>latitude</th>\n",
       "      <th>airportId</th>\n",
       "      <th>date</th>\n",
       "      <th>Covid confirmed cases</th>\n",
       "      <th>Monkeypox confirmed cases</th>\n",
       "    </tr>\n",
       "  </thead>\n",
       "  <tbody>\n",
       "    <tr>\n",
       "      <th>0</th>\n",
       "      <td>Goroka</td>\n",
       "      <td>Goroka</td>\n",
       "      <td>Papua New Guinea</td>\n",
       "      <td>145.391881</td>\n",
       "      <td>-6.081689</td>\n",
       "      <td>1</td>\n",
       "      <td>2030-01-01</td>\n",
       "      <td>17098.0</td>\n",
       "      <td>NaN</td>\n",
       "    </tr>\n",
       "    <tr>\n",
       "      <th>1</th>\n",
       "      <td>Madang</td>\n",
       "      <td>Madang</td>\n",
       "      <td>Papua New Guinea</td>\n",
       "      <td>145.788700</td>\n",
       "      <td>-5.207083</td>\n",
       "      <td>2</td>\n",
       "      <td>2030-01-01</td>\n",
       "      <td>17098.0</td>\n",
       "      <td>NaN</td>\n",
       "    </tr>\n",
       "    <tr>\n",
       "      <th>2</th>\n",
       "      <td>Mount Hagen</td>\n",
       "      <td>Mount Hagen</td>\n",
       "      <td>Papua New Guinea</td>\n",
       "      <td>144.295861</td>\n",
       "      <td>-5.826789</td>\n",
       "      <td>3</td>\n",
       "      <td>2030-01-01</td>\n",
       "      <td>17098.0</td>\n",
       "      <td>NaN</td>\n",
       "    </tr>\n",
       "    <tr>\n",
       "      <th>3</th>\n",
       "      <td>Nadzab</td>\n",
       "      <td>Nadzab</td>\n",
       "      <td>Papua New Guinea</td>\n",
       "      <td>146.726242</td>\n",
       "      <td>-6.569828</td>\n",
       "      <td>4</td>\n",
       "      <td>2030-01-01</td>\n",
       "      <td>17098.0</td>\n",
       "      <td>NaN</td>\n",
       "    </tr>\n",
       "    <tr>\n",
       "      <th>4</th>\n",
       "      <td>Port Moresby Jacksons Intl</td>\n",
       "      <td>Port Moresby</td>\n",
       "      <td>Papua New Guinea</td>\n",
       "      <td>147.220050</td>\n",
       "      <td>-9.443383</td>\n",
       "      <td>5</td>\n",
       "      <td>2030-01-01</td>\n",
       "      <td>17098.0</td>\n",
       "      <td>NaN</td>\n",
       "    </tr>\n",
       "  </tbody>\n",
       "</table>\n",
       "</div>"
      ],
      "text/plain": [
       "                         name          city           country   longitude  \\\n",
       "0                      Goroka        Goroka  Papua New Guinea  145.391881   \n",
       "1                      Madang        Madang  Papua New Guinea  145.788700   \n",
       "2                 Mount Hagen   Mount Hagen  Papua New Guinea  144.295861   \n",
       "3                      Nadzab        Nadzab  Papua New Guinea  146.726242   \n",
       "4  Port Moresby Jacksons Intl  Port Moresby  Papua New Guinea  147.220050   \n",
       "\n",
       "   latitude  airportId       date  Covid confirmed cases  \\\n",
       "0 -6.081689          1 2030-01-01                17098.0   \n",
       "1 -5.207083          2 2030-01-01                17098.0   \n",
       "2 -5.826789          3 2030-01-01                17098.0   \n",
       "3 -6.569828          4 2030-01-01                17098.0   \n",
       "4 -9.443383          5 2030-01-01                17098.0   \n",
       "\n",
       "   Monkeypox confirmed cases  \n",
       "0                        NaN  \n",
       "1                        NaN  \n",
       "2                        NaN  \n",
       "3                        NaN  \n",
       "4                        NaN  "
      ]
     },
     "execution_count": 42,
     "metadata": {},
     "output_type": "execute_result"
    }
   ],
   "source": [
    "airports_monkeypox_covid = pd.merge(airports_gdf_cov, monkeypox, on=['date', 'country'], how='left', suffixes=('_covid', '_monkeypox'))\n",
    "# airports_monkeypox_covid.drop(columns=[\"geometry\"], inplace=True)\n",
    "airports_monkeypox_covid.head()\n"
   ]
  },
  {
   "cell_type": "markdown",
   "metadata": {},
   "source": [
    "😀"
   ]
  },
  {
   "cell_type": "code",
   "execution_count": 51,
   "metadata": {},
   "outputs": [
    {
     "name": "stderr",
     "output_type": "stream",
     "text": [
      "/var/folders/f0/xl6nrz1n02bd52xdnrwb70w80000gn/T/ipykernel_66164/1752375040.py:5: UserWarning: To output multiple subplots, the figure containing the passed axes is being cleared.\n",
      "  \"Monkeypox confirmed cases\"]].sum().plot(\n"
     ]
    },
    {
     "data": {
      "text/plain": [
       "array([<Axes: xlabel='date'>, <Axes: xlabel='date'>], dtype=object)"
      ]
     },
     "execution_count": 51,
     "metadata": {},
     "output_type": "execute_result"
    },
    {
     "data": {
      "image/png": "[encoded data removed]",
      "text/plain": [
       "<Figure size 1000x500 with 2 Axes>"
      ]
     },
     "metadata": {},
     "output_type": "display_data"
    }
   ],
   "source": [
    "# make plot of two \n",
    "import matplotlib.pyplot as plt\n",
    "fig, ax = plt.subplots(figsize=(10, 5))\n",
    "airports_monkeypox_covid.groupby(\"date\")[[\"Covid confirmed cases\",\n",
    "                                         \"Monkeypox confirmed cases\"]].sum().plot(\n",
    "    ax=ax, color=[\"red\", \"blue\"], logy=False, subplots=True)\n"
   ]
  },
  {
   "cell_type": "code",
   "execution_count": 45,
   "metadata": {},
   "outputs": [],
   "source": [
    "for item in monkeypox[\"country\"].unique():\n",
    "    if item not in airports_gdf_cov.country.unique():\n",
    "        print(item)"
   ]
  },
  {
   "cell_type": "code",
   "execution_count": 114,
   "metadata": {},
   "outputs": [
    {
     "name": "stdout",
     "output_type": "stream",
     "text": [
      "Czech Republic\n"
     ]
    }
   ],
   "source": [
    "# for irem in world_basemap.CNTRY_NAME.unique():\n",
    "#     if \"Czech\" in irem:\n",
    "#         print(irem)"
   ]
  },
  {
   "cell_type": "code",
   "execution_count": 52,
   "metadata": {},
   "outputs": [],
   "source": [
    "airports_monkeypox_covid.to_csv(\"airports_monkeypox_covid.csv\", index=False)"
   ]
  },
  {
   "cell_type": "markdown",
   "metadata": {},
   "source": [
    "## Airlines"
   ]
  },
  {
   "cell_type": "code",
   "execution_count": 53,
   "metadata": {},
   "outputs": [
    {
     "data": {
      "text/html": [
       "<div>\n",
       "<style scoped>\n",
       "    .dataframe tbody tr th:only-of-type {\n",
       "        vertical-align: middle;\n",
       "    }\n",
       "\n",
       "    .dataframe tbody tr th {\n",
       "        vertical-align: top;\n",
       "    }\n",
       "\n",
       "    .dataframe thead th {\n",
       "        text-align: right;\n",
       "    }\n",
       "</style>\n",
       "<table border=\"1\" class=\"dataframe\">\n",
       "  <thead>\n",
       "    <tr style=\"text-align: right;\">\n",
       "      <th></th>\n",
       "      <th>name</th>\n",
       "      <th>country</th>\n",
       "      <th>airlineId</th>\n",
       "    </tr>\n",
       "  </thead>\n",
       "  <tbody>\n",
       "    <tr>\n",
       "      <th>0</th>\n",
       "      <td>Air France</td>\n",
       "      <td>France</td>\n",
       "      <td>1</td>\n",
       "    </tr>\n",
       "    <tr>\n",
       "      <th>1</th>\n",
       "      <td>easyJet</td>\n",
       "      <td>United Kingdom</td>\n",
       "      <td>2</td>\n",
       "    </tr>\n",
       "    <tr>\n",
       "      <th>2</th>\n",
       "      <td>Southwest Airlines</td>\n",
       "      <td>United States</td>\n",
       "      <td>3</td>\n",
       "    </tr>\n",
       "    <tr>\n",
       "      <th>3</th>\n",
       "      <td>China Eastern Airlines</td>\n",
       "      <td>China</td>\n",
       "      <td>4</td>\n",
       "    </tr>\n",
       "    <tr>\n",
       "      <th>4</th>\n",
       "      <td>Air China</td>\n",
       "      <td>China</td>\n",
       "      <td>5</td>\n",
       "    </tr>\n",
       "  </tbody>\n",
       "</table>\n",
       "</div>"
      ],
      "text/plain": [
       "                     name         country  airlineId\n",
       "0              Air France          France          1\n",
       "1                 easyJet  United Kingdom          2\n",
       "2      Southwest Airlines   United States          3\n",
       "3  China Eastern Airlines           China          4\n",
       "4               Air China           China          5"
      ]
     },
     "execution_count": 53,
     "metadata": {},
     "output_type": "execute_result"
    }
   ],
   "source": [
    "airlines = pd.DataFrame(flights_json[\"airlines\"], columns = flights_json[\"airlineFields\"])\n",
    "airlines[\"airlineId\"] = range(1, len(airlines) + 1)\n",
    "airlines.head()"
   ]
  },
  {
   "cell_type": "markdown",
   "metadata": {},
   "source": [
    "## Routes"
   ]
  },
  {
   "cell_type": "markdown",
   "metadata": {},
   "source": [
    "This routes shuold also has time atributte, routes could separate with the airports"
   ]
  },
  {
   "cell_type": "code",
   "execution_count": 54,
   "metadata": {},
   "outputs": [],
   "source": [
    "routes = pd.DataFrame(flights_json[\"routes\"], columns = ['airline', 'src', 'dst'])\n",
    "routes[\"routeId\"] = range(1, len(routes) + 1)\n"
   ]
  },
  {
   "cell_type": "code",
   "execution_count": 66,
   "metadata": {},
   "outputs": [
    {
     "data": {
      "text/plain": [
       "<DateOffset: days=1>"
      ]
     },
     "execution_count": 66,
     "metadata": {},
     "output_type": "execute_result"
    }
   ],
   "source": [
    "pd.DateOffset(days=1)"
   ]
  },
  {
   "cell_type": "code",
   "execution_count": 72,
   "metadata": {},
   "outputs": [
    {
     "data": {
      "text/plain": [
       "(17164, 5)"
      ]
     },
     "execution_count": 72,
     "metadata": {},
     "output_type": "execute_result"
    }
   ],
   "source": [
    "routes.shape"
   ]
  },
  {
   "cell_type": "code",
   "execution_count": 75,
   "metadata": {},
   "outputs": [],
   "source": [
    "start_date = airports_monkeypox_covid.date.min()\n",
    "routes_all_date = []\n",
    "while  start_date <= airports_monkeypox_covid.date.max():\n",
    "    # print(start_date)\n",
    "    routes = routes.copy()\n",
    "    routes[\"date\"] = start_date\n",
    "    routes_all_date.append(routes)\n",
    "    start_date = start_date + pd.DateOffset(days=1)\n",
    "\n",
    "routes_all_date = pd.concat(routes_all_date)\n",
    "\n",
    "# shuold also merge on the same date \n"
   ]
  },
  {
   "cell_type": "code",
   "execution_count": 76,
   "metadata": {},
   "outputs": [
    {
     "data": {
      "text/plain": [
       "(532084, 5)"
      ]
     },
     "execution_count": 76,
     "metadata": {},
     "output_type": "execute_result"
    }
   ],
   "source": [
    "routes_all_date.shape"
   ]
  },
  {
   "cell_type": "code",
   "execution_count": 78,
   "metadata": {},
   "outputs": [],
   "source": [
    "# routes_all_date.date.unique()"
   ]
  },
  {
   "cell_type": "code",
   "execution_count": 79,
   "metadata": {},
   "outputs": [
    {
     "data": {
      "text/plain": [
       "(Timestamp('2030-01-01 00:00:00'), Timestamp('2030-01-31 00:00:00'))"
      ]
     },
     "execution_count": 79,
     "metadata": {},
     "output_type": "execute_result"
    }
   ],
   "source": [
    "routes_all_date.date.min(),routes_all_date.date.max()"
   ]
  },
  {
   "cell_type": "code",
   "execution_count": 81,
   "metadata": {},
   "outputs": [
    {
     "data": {
      "text/html": [
       "<div>\n",
       "<style scoped>\n",
       "    .dataframe tbody tr th:only-of-type {\n",
       "        vertical-align: middle;\n",
       "    }\n",
       "\n",
       "    .dataframe tbody tr th {\n",
       "        vertical-align: top;\n",
       "    }\n",
       "\n",
       "    .dataframe thead th {\n",
       "        text-align: right;\n",
       "    }\n",
       "</style>\n",
       "<table border=\"1\" class=\"dataframe\">\n",
       "  <thead>\n",
       "    <tr style=\"text-align: right;\">\n",
       "      <th></th>\n",
       "      <th>airline</th>\n",
       "      <th>src</th>\n",
       "      <th>dst</th>\n",
       "      <th>routeId</th>\n",
       "      <th>date</th>\n",
       "      <th>name_src</th>\n",
       "      <th>city_src</th>\n",
       "      <th>country_src</th>\n",
       "      <th>src_lng</th>\n",
       "      <th>src_lat</th>\n",
       "      <th>...</th>\n",
       "      <th>country_dst</th>\n",
       "      <th>dst_lng</th>\n",
       "      <th>dst_lat</th>\n",
       "      <th>airportId_dst</th>\n",
       "      <th>Covid confirmed cases_dst</th>\n",
       "      <th>Monkeypox confirmed cases_dst</th>\n",
       "      <th>airline_name</th>\n",
       "      <th>airline_country</th>\n",
       "      <th>airlineId</th>\n",
       "      <th>flow count</th>\n",
       "    </tr>\n",
       "  </thead>\n",
       "  <tbody>\n",
       "    <tr>\n",
       "      <th>6415</th>\n",
       "      <td>4</td>\n",
       "      <td>1965</td>\n",
       "      <td>3307</td>\n",
       "      <td>2357</td>\n",
       "      <td>2030-01-01</td>\n",
       "      <td>La Tontouta</td>\n",
       "      <td>Noumea</td>\n",
       "      <td>New Caledonia</td>\n",
       "      <td>166.212972</td>\n",
       "      <td>-22.014553</td>\n",
       "      <td>...</td>\n",
       "      <td>China</td>\n",
       "      <td>121.5386</td>\n",
       "      <td>38.965667</td>\n",
       "      <td>3307</td>\n",
       "      <td>113614.0</td>\n",
       "      <td>NaN</td>\n",
       "      <td>China Eastern Airlines</td>\n",
       "      <td>China</td>\n",
       "      <td>4</td>\n",
       "      <td>1</td>\n",
       "    </tr>\n",
       "    <tr>\n",
       "      <th>6416</th>\n",
       "      <td>5</td>\n",
       "      <td>575</td>\n",
       "      <td>3307</td>\n",
       "      <td>3620</td>\n",
       "      <td>2030-01-01</td>\n",
       "      <td>Mount Pleasant</td>\n",
       "      <td>Mount Pleasant</td>\n",
       "      <td>Falkland Islands</td>\n",
       "      <td>-58.447222</td>\n",
       "      <td>-51.822777</td>\n",
       "      <td>...</td>\n",
       "      <td>China</td>\n",
       "      <td>121.5386</td>\n",
       "      <td>38.965667</td>\n",
       "      <td>3307</td>\n",
       "      <td>113614.0</td>\n",
       "      <td>NaN</td>\n",
       "      <td>Air China</td>\n",
       "      <td>China</td>\n",
       "      <td>5</td>\n",
       "      <td>1</td>\n",
       "    </tr>\n",
       "    <tr>\n",
       "      <th>6417</th>\n",
       "      <td>3</td>\n",
       "      <td>575</td>\n",
       "      <td>3307</td>\n",
       "      <td>9518</td>\n",
       "      <td>2030-01-01</td>\n",
       "      <td>Mount Pleasant</td>\n",
       "      <td>Mount Pleasant</td>\n",
       "      <td>Falkland Islands</td>\n",
       "      <td>-58.447222</td>\n",
       "      <td>-51.822777</td>\n",
       "      <td>...</td>\n",
       "      <td>China</td>\n",
       "      <td>121.5386</td>\n",
       "      <td>38.965667</td>\n",
       "      <td>3307</td>\n",
       "      <td>113614.0</td>\n",
       "      <td>NaN</td>\n",
       "      <td>Southwest Airlines</td>\n",
       "      <td>United States</td>\n",
       "      <td>3</td>\n",
       "      <td>1</td>\n",
       "    </tr>\n",
       "    <tr>\n",
       "      <th>6418</th>\n",
       "      <td>3</td>\n",
       "      <td>3786</td>\n",
       "      <td>3307</td>\n",
       "      <td>9532</td>\n",
       "      <td>2030-01-01</td>\n",
       "      <td>Robins Afb</td>\n",
       "      <td>Macon</td>\n",
       "      <td>United States</td>\n",
       "      <td>-83.591850</td>\n",
       "      <td>32.640144</td>\n",
       "      <td>...</td>\n",
       "      <td>China</td>\n",
       "      <td>121.5386</td>\n",
       "      <td>38.965667</td>\n",
       "      <td>3307</td>\n",
       "      <td>113614.0</td>\n",
       "      <td>NaN</td>\n",
       "      <td>Southwest Airlines</td>\n",
       "      <td>United States</td>\n",
       "      <td>3</td>\n",
       "      <td>1</td>\n",
       "    </tr>\n",
       "    <tr>\n",
       "      <th>6419</th>\n",
       "      <td>4</td>\n",
       "      <td>1358</td>\n",
       "      <td>3307</td>\n",
       "      <td>2427</td>\n",
       "      <td>2030-01-01</td>\n",
       "      <td>Creil</td>\n",
       "      <td>Creil</td>\n",
       "      <td>France</td>\n",
       "      <td>2.519139</td>\n",
       "      <td>49.253547</td>\n",
       "      <td>...</td>\n",
       "      <td>China</td>\n",
       "      <td>121.5386</td>\n",
       "      <td>38.965667</td>\n",
       "      <td>3307</td>\n",
       "      <td>113614.0</td>\n",
       "      <td>NaN</td>\n",
       "      <td>China Eastern Airlines</td>\n",
       "      <td>China</td>\n",
       "      <td>4</td>\n",
       "      <td>1</td>\n",
       "    </tr>\n",
       "  </tbody>\n",
       "</table>\n",
       "<p>5 rows × 25 columns</p>\n",
       "</div>"
      ],
      "text/plain": [
       "      airline   src   dst  routeId       date        name_src        city_src  \\\n",
       "6415        4  1965  3307     2357 2030-01-01     La Tontouta          Noumea   \n",
       "6416        5   575  3307     3620 2030-01-01  Mount Pleasant  Mount Pleasant   \n",
       "6417        3   575  3307     9518 2030-01-01  Mount Pleasant  Mount Pleasant   \n",
       "6418        3  3786  3307     9532 2030-01-01      Robins Afb           Macon   \n",
       "6419        4  1358  3307     2427 2030-01-01           Creil           Creil   \n",
       "\n",
       "           country_src     src_lng    src_lat  ...  country_dst   dst_lng  \\\n",
       "6415     New Caledonia  166.212972 -22.014553  ...        China  121.5386   \n",
       "6416  Falkland Islands  -58.447222 -51.822777  ...        China  121.5386   \n",
       "6417  Falkland Islands  -58.447222 -51.822777  ...        China  121.5386   \n",
       "6418     United States  -83.591850  32.640144  ...        China  121.5386   \n",
       "6419            France    2.519139  49.253547  ...        China  121.5386   \n",
       "\n",
       "        dst_lat airportId_dst Covid confirmed cases_dst  \\\n",
       "6415  38.965667          3307                  113614.0   \n",
       "6416  38.965667          3307                  113614.0   \n",
       "6417  38.965667          3307                  113614.0   \n",
       "6418  38.965667          3307                  113614.0   \n",
       "6419  38.965667          3307                  113614.0   \n",
       "\n",
       "     Monkeypox confirmed cases_dst            airline_name  airline_country  \\\n",
       "6415                           NaN  China Eastern Airlines            China   \n",
       "6416                           NaN               Air China            China   \n",
       "6417                           NaN      Southwest Airlines    United States   \n",
       "6418                           NaN      Southwest Airlines    United States   \n",
       "6419                           NaN  China Eastern Airlines            China   \n",
       "\n",
       "      airlineId  flow count  \n",
       "6415          4           1  \n",
       "6416          5           1  \n",
       "6417          3           1  \n",
       "6418          3           1  \n",
       "6419          4           1  \n",
       "\n",
       "[5 rows x 25 columns]"
      ]
     },
     "execution_count": 81,
     "metadata": {},
     "output_type": "execute_result"
    }
   ],
   "source": [
    "routes_all_date = routes_all_date.merge(airports_monkeypox_covid, left_on = ['src','date'], right_on = ['airportId','date'], suffixes = ['_', '_src'])\n",
    "routes_all_date = routes_all_date.merge(airports_monkeypox_covid, left_on = ['dst','date'], right_on = ['airportId','date'], suffixes = ['_src', '_dst'])\n",
    "routes_all_date = routes_all_date.merge(airlines, left_on = 'airline', right_on = 'airlineId', suffixes = ['', '_airline'], how=\"left\")\n",
    "routes_all_date.rename(columns={\"name\": \"airline_name\", \"country\":\"airline_country\"}, inplace=True)\n",
    "# filter dst in China\n",
    "routes_all_date[\"flow count\"] = 1\n",
    "routes_all_date = routes_all_date[routes_all_date['country_dst'] == 'China']\n",
    "routes_all_date.loc[routes_all_date[\"routeId\"] == 10012, \"flow count\"] = 50\n",
    "routes_all_date.loc[routes_all_date[\"routeId\"] == 9090, \"flow count\"] = 60\n",
    "routes_all_date.loc[routes_all_date[\"routeId\"] == 4033, \"flow count\"] = 30\n",
    "routes_all_date.loc[routes_all_date[\"routeId\"] == 3987, \"flow count\"] = 60\n",
    "routes_all_date.loc[routes_all_date[\"routeId\"] == 3649, \"flow count\"] = 11\n",
    "routes_all_date = routes_all_date[routes_all_date[\"country_src\"] != \"China\"]\n",
    "routes_all_date.rename(columns={\"longitude_src\": \"src_lng\", \n",
    "        \"latitude_src\": \"src_lat\", \"longitude_dst\": \"dst_lng\", \"latitude_dst\": \"dst_lat\"}, inplace=True)\n",
    "routes_all_date.head()"
   ]
  },
  {
   "cell_type": "code",
   "execution_count": 82,
   "metadata": {},
   "outputs": [
    {
     "data": {
      "text/plain": [
       "<Axes: xlabel='date'>"
      ]
     },
     "execution_count": 82,
     "metadata": {},
     "output_type": "execute_result"
    },
    {
     "data": {
      "image/png": "[encoded data removed]",
      "text/plain": [
       "<Figure size 640x480 with 1 Axes>"
      ]
     },
     "metadata": {},
     "output_type": "display_data"
    }
   ],
   "source": [
    "routes_all_date.groupby(\"date\")[\"flow count\"].sum().plot()"
   ]
  },
  {
   "cell_type": "code",
   "execution_count": 83,
   "metadata": {},
   "outputs": [
    {
     "data": {
      "text/html": [
       "<div>\n",
       "<style scoped>\n",
       "    .dataframe tbody tr th:only-of-type {\n",
       "        vertical-align: middle;\n",
       "    }\n",
       "\n",
       "    .dataframe tbody tr th {\n",
       "        vertical-align: top;\n",
       "    }\n",
       "\n",
       "    .dataframe thead th {\n",
       "        text-align: right;\n",
       "    }\n",
       "</style>\n",
       "<table border=\"1\" class=\"dataframe\">\n",
       "  <thead>\n",
       "    <tr style=\"text-align: right;\">\n",
       "      <th></th>\n",
       "      <th>airline</th>\n",
       "      <th>src</th>\n",
       "      <th>dst</th>\n",
       "      <th>routeId</th>\n",
       "      <th>date</th>\n",
       "      <th>name_src</th>\n",
       "      <th>city_src</th>\n",
       "      <th>country_src</th>\n",
       "      <th>src_lng</th>\n",
       "      <th>src_lat</th>\n",
       "      <th>...</th>\n",
       "      <th>dst_lng</th>\n",
       "      <th>dst_lat</th>\n",
       "      <th>airportId_dst</th>\n",
       "      <th>Covid confirmed cases_dst</th>\n",
       "      <th>Monkeypox confirmed cases_dst</th>\n",
       "      <th>airline_name</th>\n",
       "      <th>airline_country</th>\n",
       "      <th>airlineId</th>\n",
       "      <th>flow count</th>\n",
       "      <th>date_str</th>\n",
       "    </tr>\n",
       "  </thead>\n",
       "  <tbody>\n",
       "    <tr>\n",
       "      <th>6415</th>\n",
       "      <td>4</td>\n",
       "      <td>1965</td>\n",
       "      <td>3307</td>\n",
       "      <td>2357</td>\n",
       "      <td>2030-01-01</td>\n",
       "      <td>La Tontouta</td>\n",
       "      <td>Noumea</td>\n",
       "      <td>New Caledonia</td>\n",
       "      <td>166.212972</td>\n",
       "      <td>-22.014553</td>\n",
       "      <td>...</td>\n",
       "      <td>121.5386</td>\n",
       "      <td>38.965667</td>\n",
       "      <td>3307</td>\n",
       "      <td>113614.0</td>\n",
       "      <td>NaN</td>\n",
       "      <td>China Eastern Airlines</td>\n",
       "      <td>China</td>\n",
       "      <td>4</td>\n",
       "      <td>1</td>\n",
       "      <td>2030-01-01 00:00:00</td>\n",
       "    </tr>\n",
       "    <tr>\n",
       "      <th>6416</th>\n",
       "      <td>5</td>\n",
       "      <td>575</td>\n",
       "      <td>3307</td>\n",
       "      <td>3620</td>\n",
       "      <td>2030-01-01</td>\n",
       "      <td>Mount Pleasant</td>\n",
       "      <td>Mount Pleasant</td>\n",
       "      <td>Falkland Islands</td>\n",
       "      <td>-58.447222</td>\n",
       "      <td>-51.822777</td>\n",
       "      <td>...</td>\n",
       "      <td>121.5386</td>\n",
       "      <td>38.965667</td>\n",
       "      <td>3307</td>\n",
       "      <td>113614.0</td>\n",
       "      <td>NaN</td>\n",
       "      <td>Air China</td>\n",
       "      <td>China</td>\n",
       "      <td>5</td>\n",
       "      <td>1</td>\n",
       "      <td>2030-01-01 00:00:00</td>\n",
       "    </tr>\n",
       "    <tr>\n",
       "      <th>6417</th>\n",
       "      <td>3</td>\n",
       "      <td>575</td>\n",
       "      <td>3307</td>\n",
       "      <td>9518</td>\n",
       "      <td>2030-01-01</td>\n",
       "      <td>Mount Pleasant</td>\n",
       "      <td>Mount Pleasant</td>\n",
       "      <td>Falkland Islands</td>\n",
       "      <td>-58.447222</td>\n",
       "      <td>-51.822777</td>\n",
       "      <td>...</td>\n",
       "      <td>121.5386</td>\n",
       "      <td>38.965667</td>\n",
       "      <td>3307</td>\n",
       "      <td>113614.0</td>\n",
       "      <td>NaN</td>\n",
       "      <td>Southwest Airlines</td>\n",
       "      <td>United States</td>\n",
       "      <td>3</td>\n",
       "      <td>1</td>\n",
       "      <td>2030-01-01 00:00:00</td>\n",
       "    </tr>\n",
       "    <tr>\n",
       "      <th>6418</th>\n",
       "      <td>3</td>\n",
       "      <td>3786</td>\n",
       "      <td>3307</td>\n",
       "      <td>9532</td>\n",
       "      <td>2030-01-01</td>\n",
       "      <td>Robins Afb</td>\n",
       "      <td>Macon</td>\n",
       "      <td>United States</td>\n",
       "      <td>-83.591850</td>\n",
       "      <td>32.640144</td>\n",
       "      <td>...</td>\n",
       "      <td>121.5386</td>\n",
       "      <td>38.965667</td>\n",
       "      <td>3307</td>\n",
       "      <td>113614.0</td>\n",
       "      <td>NaN</td>\n",
       "      <td>Southwest Airlines</td>\n",
       "      <td>United States</td>\n",
       "      <td>3</td>\n",
       "      <td>1</td>\n",
       "      <td>2030-01-01 00:00:00</td>\n",
       "    </tr>\n",
       "    <tr>\n",
       "      <th>6419</th>\n",
       "      <td>4</td>\n",
       "      <td>1358</td>\n",
       "      <td>3307</td>\n",
       "      <td>2427</td>\n",
       "      <td>2030-01-01</td>\n",
       "      <td>Creil</td>\n",
       "      <td>Creil</td>\n",
       "      <td>France</td>\n",
       "      <td>2.519139</td>\n",
       "      <td>49.253547</td>\n",
       "      <td>...</td>\n",
       "      <td>121.5386</td>\n",
       "      <td>38.965667</td>\n",
       "      <td>3307</td>\n",
       "      <td>113614.0</td>\n",
       "      <td>NaN</td>\n",
       "      <td>China Eastern Airlines</td>\n",
       "      <td>China</td>\n",
       "      <td>4</td>\n",
       "      <td>1</td>\n",
       "      <td>2030-01-01 00:00:00</td>\n",
       "    </tr>\n",
       "  </tbody>\n",
       "</table>\n",
       "<p>5 rows × 26 columns</p>\n",
       "</div>"
      ],
      "text/plain": [
       "      airline   src   dst  routeId       date        name_src        city_src  \\\n",
       "6415        4  1965  3307     2357 2030-01-01     La Tontouta          Noumea   \n",
       "6416        5   575  3307     3620 2030-01-01  Mount Pleasant  Mount Pleasant   \n",
       "6417        3   575  3307     9518 2030-01-01  Mount Pleasant  Mount Pleasant   \n",
       "6418        3  3786  3307     9532 2030-01-01      Robins Afb           Macon   \n",
       "6419        4  1358  3307     2427 2030-01-01           Creil           Creil   \n",
       "\n",
       "           country_src     src_lng    src_lat  ...   dst_lng    dst_lat  \\\n",
       "6415     New Caledonia  166.212972 -22.014553  ...  121.5386  38.965667   \n",
       "6416  Falkland Islands  -58.447222 -51.822777  ...  121.5386  38.965667   \n",
       "6417  Falkland Islands  -58.447222 -51.822777  ...  121.5386  38.965667   \n",
       "6418     United States  -83.591850  32.640144  ...  121.5386  38.965667   \n",
       "6419            France    2.519139  49.253547  ...  121.5386  38.965667   \n",
       "\n",
       "      airportId_dst Covid confirmed cases_dst Monkeypox confirmed cases_dst  \\\n",
       "6415           3307                  113614.0                           NaN   \n",
       "6416           3307                  113614.0                           NaN   \n",
       "6417           3307                  113614.0                           NaN   \n",
       "6418           3307                  113614.0                           NaN   \n",
       "6419           3307                  113614.0                           NaN   \n",
       "\n",
       "                airline_name  airline_country  airlineId  flow count  \\\n",
       "6415  China Eastern Airlines            China          4           1   \n",
       "6416               Air China            China          5           1   \n",
       "6417      Southwest Airlines    United States          3           1   \n",
       "6418      Southwest Airlines    United States          3           1   \n",
       "6419  China Eastern Airlines            China          4           1   \n",
       "\n",
       "                 date_str  \n",
       "6415  2030-01-01 00:00:00  \n",
       "6416  2030-01-01 00:00:00  \n",
       "6417  2030-01-01 00:00:00  \n",
       "6418  2030-01-01 00:00:00  \n",
       "6419  2030-01-01 00:00:00  \n",
       "\n",
       "[5 rows x 26 columns]"
      ]
     },
     "execution_count": 83,
     "metadata": {},
     "output_type": "execute_result"
    }
   ],
   "source": [
    "routes_all_date[\"date_str\"] = routes_all_date[\"date\"].dt.strftime('%Y-%m-%d %H:%M:%S')\n",
    "routes_all_date.head()"
   ]
  },
  {
   "cell_type": "code",
   "execution_count": 84,
   "metadata": {},
   "outputs": [],
   "source": [
    "routes_all_date.to_csv(\"flights.csv\", index=False)"
   ]
  },
  {
   "cell_type": "code",
   "execution_count": 85,
   "metadata": {},
   "outputs": [
    {
     "data": {
      "text/html": [
       "<div>\n",
       "<style scoped>\n",
       "    .dataframe tbody tr th:only-of-type {\n",
       "        vertical-align: middle;\n",
       "    }\n",
       "\n",
       "    .dataframe tbody tr th {\n",
       "        vertical-align: top;\n",
       "    }\n",
       "\n",
       "    .dataframe thead th {\n",
       "        text-align: right;\n",
       "    }\n",
       "</style>\n",
       "<table border=\"1\" class=\"dataframe\">\n",
       "  <thead>\n",
       "    <tr style=\"text-align: right;\">\n",
       "      <th></th>\n",
       "      <th>airline</th>\n",
       "      <th>src</th>\n",
       "      <th>dst</th>\n",
       "      <th>routeId</th>\n",
       "      <th>date</th>\n",
       "      <th>name_src</th>\n",
       "      <th>city_src</th>\n",
       "      <th>country_src</th>\n",
       "      <th>src_lng</th>\n",
       "      <th>src_lat</th>\n",
       "      <th>...</th>\n",
       "      <th>dst_lng</th>\n",
       "      <th>dst_lat</th>\n",
       "      <th>airportId_dst</th>\n",
       "      <th>Covid confirmed cases_dst</th>\n",
       "      <th>Monkeypox confirmed cases_dst</th>\n",
       "      <th>airline_name</th>\n",
       "      <th>airline_country</th>\n",
       "      <th>airlineId</th>\n",
       "      <th>flow count</th>\n",
       "      <th>date_str</th>\n",
       "    </tr>\n",
       "  </thead>\n",
       "  <tbody>\n",
       "    <tr>\n",
       "      <th>0</th>\n",
       "      <td>4</td>\n",
       "      <td>1965</td>\n",
       "      <td>3307</td>\n",
       "      <td>2357</td>\n",
       "      <td>2030-01-01</td>\n",
       "      <td>La Tontouta</td>\n",
       "      <td>Noumea</td>\n",
       "      <td>New Caledonia</td>\n",
       "      <td>166.212972</td>\n",
       "      <td>-22.014553</td>\n",
       "      <td>...</td>\n",
       "      <td>121.5386</td>\n",
       "      <td>38.965667</td>\n",
       "      <td>3307</td>\n",
       "      <td>113614.0</td>\n",
       "      <td>NaN</td>\n",
       "      <td>China Eastern Airlines</td>\n",
       "      <td>China</td>\n",
       "      <td>4</td>\n",
       "      <td>1</td>\n",
       "      <td>2030-01-01 00:00:00</td>\n",
       "    </tr>\n",
       "    <tr>\n",
       "      <th>1</th>\n",
       "      <td>5</td>\n",
       "      <td>575</td>\n",
       "      <td>3307</td>\n",
       "      <td>3620</td>\n",
       "      <td>2030-01-01</td>\n",
       "      <td>Mount Pleasant</td>\n",
       "      <td>Mount Pleasant</td>\n",
       "      <td>Falkland Islands</td>\n",
       "      <td>-58.447222</td>\n",
       "      <td>-51.822777</td>\n",
       "      <td>...</td>\n",
       "      <td>121.5386</td>\n",
       "      <td>38.965667</td>\n",
       "      <td>3307</td>\n",
       "      <td>113614.0</td>\n",
       "      <td>NaN</td>\n",
       "      <td>Air China</td>\n",
       "      <td>China</td>\n",
       "      <td>5</td>\n",
       "      <td>1</td>\n",
       "      <td>2030-01-01 00:00:00</td>\n",
       "    </tr>\n",
       "    <tr>\n",
       "      <th>2</th>\n",
       "      <td>3</td>\n",
       "      <td>575</td>\n",
       "      <td>3307</td>\n",
       "      <td>9518</td>\n",
       "      <td>2030-01-01</td>\n",
       "      <td>Mount Pleasant</td>\n",
       "      <td>Mount Pleasant</td>\n",
       "      <td>Falkland Islands</td>\n",
       "      <td>-58.447222</td>\n",
       "      <td>-51.822777</td>\n",
       "      <td>...</td>\n",
       "      <td>121.5386</td>\n",
       "      <td>38.965667</td>\n",
       "      <td>3307</td>\n",
       "      <td>113614.0</td>\n",
       "      <td>NaN</td>\n",
       "      <td>Southwest Airlines</td>\n",
       "      <td>United States</td>\n",
       "      <td>3</td>\n",
       "      <td>1</td>\n",
       "      <td>2030-01-01 00:00:00</td>\n",
       "    </tr>\n",
       "    <tr>\n",
       "      <th>3</th>\n",
       "      <td>3</td>\n",
       "      <td>3786</td>\n",
       "      <td>3307</td>\n",
       "      <td>9532</td>\n",
       "      <td>2030-01-01</td>\n",
       "      <td>Robins Afb</td>\n",
       "      <td>Macon</td>\n",
       "      <td>United States</td>\n",
       "      <td>-83.591850</td>\n",
       "      <td>32.640144</td>\n",
       "      <td>...</td>\n",
       "      <td>121.5386</td>\n",
       "      <td>38.965667</td>\n",
       "      <td>3307</td>\n",
       "      <td>113614.0</td>\n",
       "      <td>NaN</td>\n",
       "      <td>Southwest Airlines</td>\n",
       "      <td>United States</td>\n",
       "      <td>3</td>\n",
       "      <td>1</td>\n",
       "      <td>2030-01-01 00:00:00</td>\n",
       "    </tr>\n",
       "    <tr>\n",
       "      <th>4</th>\n",
       "      <td>4</td>\n",
       "      <td>1358</td>\n",
       "      <td>3307</td>\n",
       "      <td>2427</td>\n",
       "      <td>2030-01-01</td>\n",
       "      <td>Creil</td>\n",
       "      <td>Creil</td>\n",
       "      <td>France</td>\n",
       "      <td>2.519139</td>\n",
       "      <td>49.253547</td>\n",
       "      <td>...</td>\n",
       "      <td>121.5386</td>\n",
       "      <td>38.965667</td>\n",
       "      <td>3307</td>\n",
       "      <td>113614.0</td>\n",
       "      <td>NaN</td>\n",
       "      <td>China Eastern Airlines</td>\n",
       "      <td>China</td>\n",
       "      <td>4</td>\n",
       "      <td>1</td>\n",
       "      <td>2030-01-01 00:00:00</td>\n",
       "    </tr>\n",
       "  </tbody>\n",
       "</table>\n",
       "<p>5 rows × 26 columns</p>\n",
       "</div>"
      ],
      "text/plain": [
       "   airline   src   dst  routeId        date        name_src        city_src  \\\n",
       "0        4  1965  3307     2357  2030-01-01     La Tontouta          Noumea   \n",
       "1        5   575  3307     3620  2030-01-01  Mount Pleasant  Mount Pleasant   \n",
       "2        3   575  3307     9518  2030-01-01  Mount Pleasant  Mount Pleasant   \n",
       "3        3  3786  3307     9532  2030-01-01      Robins Afb           Macon   \n",
       "4        4  1358  3307     2427  2030-01-01           Creil           Creil   \n",
       "\n",
       "        country_src     src_lng    src_lat  ...   dst_lng    dst_lat  \\\n",
       "0     New Caledonia  166.212972 -22.014553  ...  121.5386  38.965667   \n",
       "1  Falkland Islands  -58.447222 -51.822777  ...  121.5386  38.965667   \n",
       "2  Falkland Islands  -58.447222 -51.822777  ...  121.5386  38.965667   \n",
       "3     United States  -83.591850  32.640144  ...  121.5386  38.965667   \n",
       "4            France    2.519139  49.253547  ...  121.5386  38.965667   \n",
       "\n",
       "   airportId_dst Covid confirmed cases_dst Monkeypox confirmed cases_dst  \\\n",
       "0           3307                  113614.0                           NaN   \n",
       "1           3307                  113614.0                           NaN   \n",
       "2           3307                  113614.0                           NaN   \n",
       "3           3307                  113614.0                           NaN   \n",
       "4           3307                  113614.0                           NaN   \n",
       "\n",
       "             airline_name  airline_country  airlineId  flow count  \\\n",
       "0  China Eastern Airlines            China          4           1   \n",
       "1               Air China            China          5           1   \n",
       "2      Southwest Airlines    United States          3           1   \n",
       "3      Southwest Airlines    United States          3           1   \n",
       "4  China Eastern Airlines            China          4           1   \n",
       "\n",
       "              date_str  \n",
       "0  2030-01-01 00:00:00  \n",
       "1  2030-01-01 00:00:00  \n",
       "2  2030-01-01 00:00:00  \n",
       "3  2030-01-01 00:00:00  \n",
       "4  2030-01-01 00:00:00  \n",
       "\n",
       "[5 rows x 26 columns]"
      ]
     },
     "execution_count": 85,
     "metadata": {},
     "output_type": "execute_result"
    }
   ],
   "source": [
    "import pandas as pd\n",
    "routes = pd.read_csv(\"flights.csv\")\n",
    "routes.head()"
   ]
  },
  {
   "cell_type": "code",
   "execution_count": 86,
   "metadata": {},
   "outputs": [
    {
     "data": {
      "text/plain": [
       "Index(['airline', 'src', 'dst', 'routeId', 'date', 'name_src', 'city_src',\n",
       "       'country_src', 'src_lng', 'src_lat', 'airportId_src',\n",
       "       'Covid confirmed cases_src', 'Monkeypox confirmed cases_src',\n",
       "       'name_dst', 'city_dst', 'country_dst', 'dst_lng', 'dst_lat',\n",
       "       'airportId_dst', 'Covid confirmed cases_dst',\n",
       "       'Monkeypox confirmed cases_dst', 'airline_name', 'airline_country',\n",
       "       'airlineId', 'flow count', 'date_str'],\n",
       "      dtype='object')"
      ]
     },
     "execution_count": 86,
     "metadata": {},
     "output_type": "execute_result"
    }
   ],
   "source": [
    "routes.columns"
   ]
  },
  {
   "cell_type": "code",
   "execution_count": null,
   "metadata": {},
   "outputs": [],
   "source": []
  },
  {
   "cell_type": "code",
   "execution_count": 168,
   "metadata": {},
   "outputs": [],
   "source": [
    "# 看起来只要提前设置好了config，就可以在不同的数据集上使用同一个config\n",
    "# 这样其实可以直接使用kepler.gl的config\n"
   ]
  },
  {
   "cell_type": "markdown",
   "metadata": {},
   "source": [
    "## read the manuly edited data"
   ]
  },
  {
   "cell_type": "code",
   "execution_count": 1,
   "metadata": {},
   "outputs": [
    {
     "data": {
      "text/html": [
       "<div>\n",
       "<style scoped>\n",
       "    .dataframe tbody tr th:only-of-type {\n",
       "        vertical-align: middle;\n",
       "    }\n",
       "\n",
       "    .dataframe tbody tr th {\n",
       "        vertical-align: top;\n",
       "    }\n",
       "\n",
       "    .dataframe thead th {\n",
       "        text-align: right;\n",
       "    }\n",
       "</style>\n",
       "<table border=\"1\" class=\"dataframe\">\n",
       "  <thead>\n",
       "    <tr style=\"text-align: right;\">\n",
       "      <th></th>\n",
       "      <th>airline</th>\n",
       "      <th>src</th>\n",
       "      <th>dst</th>\n",
       "      <th>routeId</th>\n",
       "      <th>date</th>\n",
       "      <th>name_src</th>\n",
       "      <th>city_src</th>\n",
       "      <th>country_src</th>\n",
       "      <th>src_lng</th>\n",
       "      <th>src_lat</th>\n",
       "      <th>...</th>\n",
       "      <th>dst_lng</th>\n",
       "      <th>dst_lat</th>\n",
       "      <th>airportId_dst</th>\n",
       "      <th>Covid confirmed cases_dst</th>\n",
       "      <th>Monkeypox confirmed cases_dst</th>\n",
       "      <th>airline_name</th>\n",
       "      <th>airline_country</th>\n",
       "      <th>airlineId</th>\n",
       "      <th>flow count</th>\n",
       "      <th>date_str</th>\n",
       "    </tr>\n",
       "  </thead>\n",
       "  <tbody>\n",
       "    <tr>\n",
       "      <th>0</th>\n",
       "      <td>4</td>\n",
       "      <td>1965</td>\n",
       "      <td>3307</td>\n",
       "      <td>2357</td>\n",
       "      <td>2030-01-01</td>\n",
       "      <td>La Tontouta</td>\n",
       "      <td>Noumea</td>\n",
       "      <td>New Caledonia</td>\n",
       "      <td>166.212972</td>\n",
       "      <td>-22.014553</td>\n",
       "      <td>...</td>\n",
       "      <td>121.5386</td>\n",
       "      <td>38.965667</td>\n",
       "      <td>3307</td>\n",
       "      <td>113614.0</td>\n",
       "      <td>NaN</td>\n",
       "      <td>China Eastern Airlines</td>\n",
       "      <td>China</td>\n",
       "      <td>4</td>\n",
       "      <td>4</td>\n",
       "      <td>2030-01-01 00:00:00</td>\n",
       "    </tr>\n",
       "    <tr>\n",
       "      <th>1</th>\n",
       "      <td>5</td>\n",
       "      <td>575</td>\n",
       "      <td>3307</td>\n",
       "      <td>3620</td>\n",
       "      <td>2030-01-01</td>\n",
       "      <td>Mount Pleasant</td>\n",
       "      <td>Mount Pleasant</td>\n",
       "      <td>Falkland Islands</td>\n",
       "      <td>-58.447222</td>\n",
       "      <td>-51.822777</td>\n",
       "      <td>...</td>\n",
       "      <td>121.5386</td>\n",
       "      <td>38.965667</td>\n",
       "      <td>3307</td>\n",
       "      <td>113614.0</td>\n",
       "      <td>NaN</td>\n",
       "      <td>Air China</td>\n",
       "      <td>China</td>\n",
       "      <td>5</td>\n",
       "      <td>2</td>\n",
       "      <td>2030-01-01 00:00:00</td>\n",
       "    </tr>\n",
       "    <tr>\n",
       "      <th>2</th>\n",
       "      <td>3</td>\n",
       "      <td>575</td>\n",
       "      <td>3307</td>\n",
       "      <td>9518</td>\n",
       "      <td>2030-01-01</td>\n",
       "      <td>Mount Pleasant</td>\n",
       "      <td>Mount Pleasant</td>\n",
       "      <td>Falkland Islands</td>\n",
       "      <td>-58.447222</td>\n",
       "      <td>-51.822777</td>\n",
       "      <td>...</td>\n",
       "      <td>121.5386</td>\n",
       "      <td>38.965667</td>\n",
       "      <td>3307</td>\n",
       "      <td>113614.0</td>\n",
       "      <td>NaN</td>\n",
       "      <td>Southwest Airlines</td>\n",
       "      <td>United States</td>\n",
       "      <td>3</td>\n",
       "      <td>4</td>\n",
       "      <td>2030-01-01 00:00:00</td>\n",
       "    </tr>\n",
       "    <tr>\n",
       "      <th>3</th>\n",
       "      <td>3</td>\n",
       "      <td>3786</td>\n",
       "      <td>3307</td>\n",
       "      <td>9532</td>\n",
       "      <td>2030-01-01</td>\n",
       "      <td>Robins Afb</td>\n",
       "      <td>Macon</td>\n",
       "      <td>United States</td>\n",
       "      <td>-83.591850</td>\n",
       "      <td>32.640144</td>\n",
       "      <td>...</td>\n",
       "      <td>121.5386</td>\n",
       "      <td>38.965667</td>\n",
       "      <td>3307</td>\n",
       "      <td>113614.0</td>\n",
       "      <td>NaN</td>\n",
       "      <td>Southwest Airlines</td>\n",
       "      <td>United States</td>\n",
       "      <td>3</td>\n",
       "      <td>5</td>\n",
       "      <td>2030-01-01 00:00:00</td>\n",
       "    </tr>\n",
       "    <tr>\n",
       "      <th>4</th>\n",
       "      <td>4</td>\n",
       "      <td>1358</td>\n",
       "      <td>3307</td>\n",
       "      <td>2427</td>\n",
       "      <td>2030-01-01</td>\n",
       "      <td>Creil</td>\n",
       "      <td>Creil</td>\n",
       "      <td>France</td>\n",
       "      <td>2.519139</td>\n",
       "      <td>49.253547</td>\n",
       "      <td>...</td>\n",
       "      <td>121.5386</td>\n",
       "      <td>38.965667</td>\n",
       "      <td>3307</td>\n",
       "      <td>113614.0</td>\n",
       "      <td>NaN</td>\n",
       "      <td>China Eastern Airlines</td>\n",
       "      <td>China</td>\n",
       "      <td>4</td>\n",
       "      <td>3</td>\n",
       "      <td>2030-01-01 00:00:00</td>\n",
       "    </tr>\n",
       "  </tbody>\n",
       "</table>\n",
       "<p>5 rows × 26 columns</p>\n",
       "</div>"
      ],
      "text/plain": [
       "   airline   src   dst  routeId        date        name_src        city_src  \\\n",
       "0        4  1965  3307     2357  2030-01-01     La Tontouta          Noumea   \n",
       "1        5   575  3307     3620  2030-01-01  Mount Pleasant  Mount Pleasant   \n",
       "2        3   575  3307     9518  2030-01-01  Mount Pleasant  Mount Pleasant   \n",
       "3        3  3786  3307     9532  2030-01-01      Robins Afb           Macon   \n",
       "4        4  1358  3307     2427  2030-01-01           Creil           Creil   \n",
       "\n",
       "        country_src     src_lng    src_lat  ...   dst_lng    dst_lat  \\\n",
       "0     New Caledonia  166.212972 -22.014553  ...  121.5386  38.965667   \n",
       "1  Falkland Islands  -58.447222 -51.822777  ...  121.5386  38.965667   \n",
       "2  Falkland Islands  -58.447222 -51.822777  ...  121.5386  38.965667   \n",
       "3     United States  -83.591850  32.640144  ...  121.5386  38.965667   \n",
       "4            France    2.519139  49.253547  ...  121.5386  38.965667   \n",
       "\n",
       "   airportId_dst Covid confirmed cases_dst Monkeypox confirmed cases_dst  \\\n",
       "0           3307                  113614.0                           NaN   \n",
       "1           3307                  113614.0                           NaN   \n",
       "2           3307                  113614.0                           NaN   \n",
       "3           3307                  113614.0                           NaN   \n",
       "4           3307                  113614.0                           NaN   \n",
       "\n",
       "             airline_name  airline_country  airlineId  flow count  \\\n",
       "0  China Eastern Airlines            China          4           4   \n",
       "1               Air China            China          5           2   \n",
       "2      Southwest Airlines    United States          3           4   \n",
       "3      Southwest Airlines    United States          3           5   \n",
       "4  China Eastern Airlines            China          4           3   \n",
       "\n",
       "              date_str  \n",
       "0  2030-01-01 00:00:00  \n",
       "1  2030-01-01 00:00:00  \n",
       "2  2030-01-01 00:00:00  \n",
       "3  2030-01-01 00:00:00  \n",
       "4  2030-01-01 00:00:00  \n",
       "\n",
       "[5 rows x 26 columns]"
      ]
     },
     "execution_count": 1,
     "metadata": {},
     "output_type": "execute_result"
    }
   ],
   "source": [
    "import pandas as pd\n",
    "df = pd.read_csv(\"flights edited.csv\")\n",
    "# add a random number (between 0-5) to the flow count column\n",
    "import numpy as np\n",
    "df[\"flow count\"] = df[\"flow count\"] + np.random.randint(0, 5, df.shape[0])\n",
    "\n",
    "df.head()"
   ]
  },
  {
   "cell_type": "code",
   "execution_count": 3,
   "metadata": {},
   "outputs": [
    {
     "data": {
      "text/plain": [
       "Index(['airline', 'src', 'dst', 'routeId', 'date', 'name_src', 'city_src',\n",
       "       'country_src', 'src_lng', 'src_lat', 'airportId_src',\n",
       "       'Covid confirmed cases_src', 'Monkeypox confirmed cases_src',\n",
       "       'name_dst', 'city_dst', 'country_dst', 'dst_lng', 'dst_lat',\n",
       "       'airportId_dst', 'Covid confirmed cases_dst',\n",
       "       'Monkeypox confirmed cases_dst', 'airline_name', 'airline_country',\n",
       "       'airlineId', 'flow count', 'date_str'],\n",
       "      dtype='object')"
      ]
     },
     "execution_count": 3,
     "metadata": {},
     "output_type": "execute_result"
    }
   ],
   "source": [
    "df.columns"
   ]
  },
  {
   "cell_type": "code",
   "execution_count": 3,
   "metadata": {},
   "outputs": [
    {
     "name": "stdout",
     "output_type": "stream",
     "text": [
      "User Guide: https://docs.kepler.gl/docs/keplergl-jupyter\n"
     ]
    },
    {
     "name": "stderr",
     "output_type": "stream",
     "text": [
      "/opt/homebrew/Caskroom/mambaforge/base/envs/geo/lib/python3.11/site-packages/jupyter_client/session.py:719: UserWarning: Message serialization failed with:\n",
      "Out of range float values are not JSON compliant\n",
      "Supporting this message is deprecated in jupyter-client 7, please make sure your message is JSON-compliant\n",
      "  content = self.pack(content)\n"
     ]
    },
    {
     "data": {
      "application/vnd.jupyter.widget-view+json": {
       "model_id": "1fdda214eae846fb84f3fafb50f8206f",
       "version_major": 2,
       "version_minor": 0
      },
      "text/plain": [
       "KeplerGl(data={'flights': {'index': [0, 1, 2, 3, 4, 5, 6, 7, 8, 9, 10, 11, 12, 13, 14, 15, 16, 17, 18, 19, 20,…"
      ]
     },
     "metadata": {},
     "output_type": "display_data"
    }
   ],
   "source": [
    "from keplergl import KeplerGl\n",
    "map_1 = KeplerGl(height=600, width=800)\n",
    "map_1.add_data(data=df, name=\"flights\")\n",
    "#  save the map as html\n",
    "map_1"
   ]
  },
  {
   "cell_type": "code",
   "execution_count": 93,
   "metadata": {},
   "outputs": [
    {
     "data": {
      "text/plain": [
       "<Axes: xlabel='date'>"
      ]
     },
     "execution_count": 93,
     "metadata": {},
     "output_type": "execute_result"
    },
    {
     "data": {
      "image/png": "[encoded data removed]",
      "text/plain": [
       "<Figure size 640x480 with 1 Axes>"
      ]
     },
     "metadata": {},
     "output_type": "display_data"
    }
   ],
   "source": [
    "# for each date, add a normal distribution to the covid confirmed cases\n",
    "\n",
    "df.groupby(\"date\")[\"Covid confirmed cases_src\"].sum().plot()\n"
   ]
  }
 ],
 "metadata": {
  "kernelspec": {
   "display_name": "base",
   "language": "python",
   "name": "python3"
  },
  "language_info": {
   "codemirror_mode": {
    "name": "ipython",
    "version": 3
   },
   "file_extension": ".py",
   "mimetype": "text/x-python",
   "name": "python",
   "nbconvert_exporter": "python",
   "pygments_lexer": "ipython3",
   "version": "3.11.4"
  },
  "orig_nbformat": 4
 },
 "nbformat": 4,
 "nbformat_minor": 2
}
