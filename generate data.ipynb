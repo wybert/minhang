{
 "cells": [
  {
   "cell_type": "markdown",
   "metadata": {},
   "source": [
    "## generate the data for the analysis"
   ]
  },
  {
   "cell_type": "code",
   "execution_count": 70,
   "metadata": {},
   "outputs": [
    {
     "data": {
      "text/plain": [
       "<Axes: >"
      ]
     },
     "execution_count": 70,
     "metadata": {},
     "output_type": "execute_result"
    },
    {
     "data": {
      "image/png": "[encoded data removed]",
      "text/plain": [
       "<Figure size 640x480 with 1 Axes>"
      ]
     },
     "metadata": {},
     "output_type": "display_data"
    }
   ],
   "source": [
    "import geopandas as gpd\n",
    "airports = gpd.read_file(\"/Users/kang/Downloads/ne_10m_airports.zip\")\n",
    "airports.loc[:,\"lon\"] = airports.geometry.x\n",
    "airports.loc[:,\"lat\"] = airports.geometry.y\n",
    "airports.plot()"
   ]
  },
  {
   "cell_type": "code",
   "execution_count": 65,
   "metadata": {},
   "outputs": [
    {
     "data": {
      "text/plain": [
       "<Geographic 2D CRS: EPSG:4326>\n",
       "Name: WGS 84\n",
       "Axis Info [ellipsoidal]:\n",
       "- Lat[north]: Geodetic latitude (degree)\n",
       "- Lon[east]: Geodetic longitude (degree)\n",
       "Area of Use:\n",
       "- name: World.\n",
       "- bounds: (-180.0, -90.0, 180.0, 90.0)\n",
       "Datum: World Geodetic System 1984 ensemble\n",
       "- Ellipsoid: WGS 84\n",
       "- Prime Meridian: Greenwich"
      ]
     },
     "execution_count": 65,
     "metadata": {},
     "output_type": "execute_result"
    }
   ],
   "source": [
    "airports.crs"
   ]
  },
  {
   "cell_type": "code",
   "execution_count": 66,
   "metadata": {},
   "outputs": [
    {
     "data": {
      "text/plain": [
       "(893, 43)"
      ]
     },
     "execution_count": 66,
     "metadata": {},
     "output_type": "execute_result"
    }
   ],
   "source": [
    "airports.shape"
   ]
  },
  {
   "cell_type": "code",
   "execution_count": 67,
   "metadata": {},
   "outputs": [
    {
     "data": {
      "text/plain": [
       "893"
      ]
     },
     "execution_count": 67,
     "metadata": {},
     "output_type": "execute_result"
    }
   ],
   "source": [
    "airports.ne_id.nunique()"
   ]
  },
  {
   "cell_type": "code",
   "execution_count": 68,
   "metadata": {},
   "outputs": [
    {
     "data": {
      "text/plain": [
       "Index(['scalerank', 'featurecla', 'type', 'name', 'abbrev', 'location',\n",
       "       'gps_code', 'iata_code', 'wikipedia', 'natlscale', 'comments',\n",
       "       'wikidataid', 'name_ar', 'name_bn', 'name_de', 'name_en', 'name_es',\n",
       "       'name_fr', 'name_el', 'name_hi', 'name_hu', 'name_id', 'name_it',\n",
       "       'name_ja', 'name_ko', 'name_nl', 'name_pl', 'name_pt', 'name_ru',\n",
       "       'name_sv', 'name_tr', 'name_vi', 'name_zh', 'wdid_score', 'ne_id',\n",
       "       'name_fa', 'name_he', 'name_uk', 'name_ur', 'name_zht', 'geometry',\n",
       "       'lon', 'lat'],\n",
       "      dtype='object')"
      ]
     },
     "execution_count": 68,
     "metadata": {},
     "output_type": "execute_result"
    }
   ],
   "source": [
    "airports.columns"
   ]
  },
  {
   "cell_type": "code",
   "execution_count": 71,
   "metadata": {},
   "outputs": [
    {
     "name": "stderr",
     "output_type": "stream",
     "text": [
      "/var/folders/f0/xl6nrz1n02bd52xdnrwb70w80000gn/T/ipykernel_71281/1346242197.py:3: SettingWithCopyWarning: \n",
      "A value is trying to be set on a copy of a slice from a DataFrame.\n",
      "Try using .loc[row_indexer,col_indexer] = value instead\n",
      "\n",
      "See the caveats in the documentation: https://pandas.pydata.org/pandas-docs/stable/user_guide/indexing.html#returning-a-view-versus-a-copy\n",
      "  airports.loc[:,\"cases\"] = random.choices(range(100), k=airports.shape[0])\n"
     ]
    },
    {
     "data": {
      "text/html": [
       "<div>\n",
       "<style scoped>\n",
       "    .dataframe tbody tr th:only-of-type {\n",
       "        vertical-align: middle;\n",
       "    }\n",
       "\n",
       "    .dataframe tbody tr th {\n",
       "        vertical-align: top;\n",
       "    }\n",
       "\n",
       "    .dataframe thead th {\n",
       "        text-align: right;\n",
       "    }\n",
       "</style>\n",
       "<table border=\"1\" class=\"dataframe\">\n",
       "  <thead>\n",
       "    <tr style=\"text-align: right;\">\n",
       "      <th></th>\n",
       "      <th>ne_id</th>\n",
       "      <th>name</th>\n",
       "      <th>lon</th>\n",
       "      <th>lat</th>\n",
       "      <th>cases</th>\n",
       "    </tr>\n",
       "  </thead>\n",
       "  <tbody>\n",
       "    <tr>\n",
       "      <th>0</th>\n",
       "      <td>1159113785</td>\n",
       "      <td>Sahnewal</td>\n",
       "      <td>75.957072</td>\n",
       "      <td>30.850360</td>\n",
       "      <td>58</td>\n",
       "    </tr>\n",
       "    <tr>\n",
       "      <th>1</th>\n",
       "      <td>1159113803</td>\n",
       "      <td>Solapur</td>\n",
       "      <td>75.933060</td>\n",
       "      <td>17.625415</td>\n",
       "      <td>9</td>\n",
       "    </tr>\n",
       "    <tr>\n",
       "      <th>2</th>\n",
       "      <td>1159113831</td>\n",
       "      <td>Birsa Munda</td>\n",
       "      <td>85.323597</td>\n",
       "      <td>23.317725</td>\n",
       "      <td>34</td>\n",
       "    </tr>\n",
       "    <tr>\n",
       "      <th>3</th>\n",
       "      <td>1159113845</td>\n",
       "      <td>Ahwaz</td>\n",
       "      <td>48.747107</td>\n",
       "      <td>31.343159</td>\n",
       "      <td>42</td>\n",
       "    </tr>\n",
       "    <tr>\n",
       "      <th>4</th>\n",
       "      <td>1159113863</td>\n",
       "      <td>Gwalior</td>\n",
       "      <td>78.217219</td>\n",
       "      <td>26.285488</td>\n",
       "      <td>87</td>\n",
       "    </tr>\n",
       "  </tbody>\n",
       "</table>\n",
       "</div>"
      ],
      "text/plain": [
       "        ne_id         name        lon        lat  cases\n",
       "0  1159113785     Sahnewal  75.957072  30.850360     58\n",
       "1  1159113803      Solapur  75.933060  17.625415      9\n",
       "2  1159113831  Birsa Munda  85.323597  23.317725     34\n",
       "3  1159113845        Ahwaz  48.747107  31.343159     42\n",
       "4  1159113863      Gwalior  78.217219  26.285488     87"
      ]
     },
     "execution_count": 71,
     "metadata": {},
     "output_type": "execute_result"
    }
   ],
   "source": [
    "import random\n",
    "airports = airports[[\"ne_id\", \"name\", \"lon\", \"lat\"]]\n",
    "airports.loc[:,\"cases\"] = random.choices(range(100), k=airports.shape[0])\n",
    "airports.head()"
   ]
  },
  {
   "cell_type": "code",
   "execution_count": 72,
   "metadata": {},
   "outputs": [
    {
     "data": {
      "text/plain": [
       "398278"
      ]
     },
     "execution_count": 72,
     "metadata": {},
     "output_type": "execute_result"
    }
   ],
   "source": [
    "## Generate od pairs\n",
    "import itertools\n",
    "od_pairs = list(itertools.combinations(airports.ne_id, 2))\n",
    "len(od_pairs)"
   ]
  },
  {
   "cell_type": "code",
   "execution_count": 73,
   "metadata": {},
   "outputs": [],
   "source": [
    "import pandas as pd\n",
    "od_pairs_df = pd.DataFrame(od_pairs, columns=[\"origin\", \"destination\"])"
   ]
  },
  {
   "cell_type": "code",
   "execution_count": 74,
   "metadata": {},
   "outputs": [
    {
     "data": {
      "text/html": [
       "<div>\n",
       "<style scoped>\n",
       "    .dataframe tbody tr th:only-of-type {\n",
       "        vertical-align: middle;\n",
       "    }\n",
       "\n",
       "    .dataframe tbody tr th {\n",
       "        vertical-align: top;\n",
       "    }\n",
       "\n",
       "    .dataframe thead th {\n",
       "        text-align: right;\n",
       "    }\n",
       "</style>\n",
       "<table border=\"1\" class=\"dataframe\">\n",
       "  <thead>\n",
       "    <tr style=\"text-align: right;\">\n",
       "      <th></th>\n",
       "      <th>origin</th>\n",
       "      <th>destination</th>\n",
       "      <th>ne_id_origin</th>\n",
       "      <th>name_origin</th>\n",
       "      <th>lon_origin</th>\n",
       "      <th>lat_origin</th>\n",
       "      <th>cases_origin</th>\n",
       "      <th>ne_id_destination</th>\n",
       "      <th>name_destination</th>\n",
       "      <th>lon_destination</th>\n",
       "      <th>lat_destination</th>\n",
       "      <th>cases_destination</th>\n",
       "    </tr>\n",
       "  </thead>\n",
       "  <tbody>\n",
       "    <tr>\n",
       "      <th>0</th>\n",
       "      <td>1159113785</td>\n",
       "      <td>1159113803</td>\n",
       "      <td>1159113785</td>\n",
       "      <td>Sahnewal</td>\n",
       "      <td>75.957072</td>\n",
       "      <td>30.850360</td>\n",
       "      <td>58</td>\n",
       "      <td>1159113803</td>\n",
       "      <td>Solapur</td>\n",
       "      <td>75.933060</td>\n",
       "      <td>17.625415</td>\n",
       "      <td>9</td>\n",
       "    </tr>\n",
       "    <tr>\n",
       "      <th>1</th>\n",
       "      <td>1159113785</td>\n",
       "      <td>1159113831</td>\n",
       "      <td>1159113785</td>\n",
       "      <td>Sahnewal</td>\n",
       "      <td>75.957072</td>\n",
       "      <td>30.850360</td>\n",
       "      <td>58</td>\n",
       "      <td>1159113831</td>\n",
       "      <td>Birsa Munda</td>\n",
       "      <td>85.323597</td>\n",
       "      <td>23.317725</td>\n",
       "      <td>34</td>\n",
       "    </tr>\n",
       "    <tr>\n",
       "      <th>2</th>\n",
       "      <td>1159113803</td>\n",
       "      <td>1159113831</td>\n",
       "      <td>1159113803</td>\n",
       "      <td>Solapur</td>\n",
       "      <td>75.933060</td>\n",
       "      <td>17.625415</td>\n",
       "      <td>9</td>\n",
       "      <td>1159113831</td>\n",
       "      <td>Birsa Munda</td>\n",
       "      <td>85.323597</td>\n",
       "      <td>23.317725</td>\n",
       "      <td>34</td>\n",
       "    </tr>\n",
       "    <tr>\n",
       "      <th>3</th>\n",
       "      <td>1159113785</td>\n",
       "      <td>1159113845</td>\n",
       "      <td>1159113785</td>\n",
       "      <td>Sahnewal</td>\n",
       "      <td>75.957072</td>\n",
       "      <td>30.850360</td>\n",
       "      <td>58</td>\n",
       "      <td>1159113845</td>\n",
       "      <td>Ahwaz</td>\n",
       "      <td>48.747107</td>\n",
       "      <td>31.343159</td>\n",
       "      <td>42</td>\n",
       "    </tr>\n",
       "    <tr>\n",
       "      <th>4</th>\n",
       "      <td>1159113803</td>\n",
       "      <td>1159113845</td>\n",
       "      <td>1159113803</td>\n",
       "      <td>Solapur</td>\n",
       "      <td>75.933060</td>\n",
       "      <td>17.625415</td>\n",
       "      <td>9</td>\n",
       "      <td>1159113845</td>\n",
       "      <td>Ahwaz</td>\n",
       "      <td>48.747107</td>\n",
       "      <td>31.343159</td>\n",
       "      <td>42</td>\n",
       "    </tr>\n",
       "  </tbody>\n",
       "</table>\n",
       "</div>"
      ],
      "text/plain": [
       "       origin  destination  ne_id_origin name_origin  lon_origin  lat_origin  \\\n",
       "0  1159113785   1159113803    1159113785    Sahnewal   75.957072   30.850360   \n",
       "1  1159113785   1159113831    1159113785    Sahnewal   75.957072   30.850360   \n",
       "2  1159113803   1159113831    1159113803     Solapur   75.933060   17.625415   \n",
       "3  1159113785   1159113845    1159113785    Sahnewal   75.957072   30.850360   \n",
       "4  1159113803   1159113845    1159113803     Solapur   75.933060   17.625415   \n",
       "\n",
       "   cases_origin  ne_id_destination name_destination  lon_destination  \\\n",
       "0            58         1159113803          Solapur        75.933060   \n",
       "1            58         1159113831      Birsa Munda        85.323597   \n",
       "2             9         1159113831      Birsa Munda        85.323597   \n",
       "3            58         1159113845            Ahwaz        48.747107   \n",
       "4             9         1159113845            Ahwaz        48.747107   \n",
       "\n",
       "   lat_destination  cases_destination  \n",
       "0        17.625415                  9  \n",
       "1        23.317725                 34  \n",
       "2        23.317725                 34  \n",
       "3        31.343159                 42  \n",
       "4        31.343159                 42  "
      ]
     },
     "execution_count": 74,
     "metadata": {},
     "output_type": "execute_result"
    }
   ],
   "source": [
    "od_pairs_df = od_pairs_df.merge(airports, left_on=\"origin\", right_on=\"ne_id\")\n",
    "od_pairs_df = od_pairs_df.merge(airports, left_on=\"destination\", right_on=\"ne_id\", suffixes=[\"_origin\", \"_destination\"])\n",
    "od_pairs_df.head()"
   ]
  },
  {
   "cell_type": "code",
   "execution_count": 23,
   "metadata": {},
   "outputs": [
    {
     "data": {
      "text/plain": [
       "Index(['origin', 'destination', 'ne_id_origin', 'name_origin',\n",
       "       'geometry_origin', 'ne_id_destination', 'name_destination',\n",
       "       'geometry_destination', 'x_origin', 'y_origin', 'x_destination',\n",
       "       'y_destination'],\n",
       "      dtype='object')"
      ]
     },
     "execution_count": 23,
     "metadata": {},
     "output_type": "execute_result"
    }
   ],
   "source": [
    "od_pairs_df.columns"
   ]
  },
  {
   "cell_type": "code",
   "execution_count": 75,
   "metadata": {},
   "outputs": [],
   "source": [
    "od_pairs_df = od_pairs_df[['origin', 'destination', 'lon_origin', 'lat_origin', 'lon_destination', 'lat_destination', \n",
    "            'name_origin', 'name_destination' ,'cases_origin', 'cases_destination']]"
   ]
  },
  {
   "cell_type": "code",
   "execution_count": 76,
   "metadata": {},
   "outputs": [
    {
     "data": {
      "text/html": [
       "<div>\n",
       "<style scoped>\n",
       "    .dataframe tbody tr th:only-of-type {\n",
       "        vertical-align: middle;\n",
       "    }\n",
       "\n",
       "    .dataframe tbody tr th {\n",
       "        vertical-align: top;\n",
       "    }\n",
       "\n",
       "    .dataframe thead th {\n",
       "        text-align: right;\n",
       "    }\n",
       "</style>\n",
       "<table border=\"1\" class=\"dataframe\">\n",
       "  <thead>\n",
       "    <tr style=\"text-align: right;\">\n",
       "      <th></th>\n",
       "      <th>origin</th>\n",
       "      <th>destination</th>\n",
       "      <th>lon_origin</th>\n",
       "      <th>lat_origin</th>\n",
       "      <th>lon_destination</th>\n",
       "      <th>lat_destination</th>\n",
       "      <th>name_origin</th>\n",
       "      <th>name_destination</th>\n",
       "      <th>cases_origin</th>\n",
       "      <th>cases_destination</th>\n",
       "      <th>flow value</th>\n",
       "    </tr>\n",
       "  </thead>\n",
       "  <tbody>\n",
       "    <tr>\n",
       "      <th>0</th>\n",
       "      <td>1159113785</td>\n",
       "      <td>1159113803</td>\n",
       "      <td>75.957072</td>\n",
       "      <td>30.850360</td>\n",
       "      <td>75.933060</td>\n",
       "      <td>17.625415</td>\n",
       "      <td>Sahnewal</td>\n",
       "      <td>Solapur</td>\n",
       "      <td>58</td>\n",
       "      <td>9</td>\n",
       "      <td>92</td>\n",
       "    </tr>\n",
       "    <tr>\n",
       "      <th>1</th>\n",
       "      <td>1159113785</td>\n",
       "      <td>1159113831</td>\n",
       "      <td>75.957072</td>\n",
       "      <td>30.850360</td>\n",
       "      <td>85.323597</td>\n",
       "      <td>23.317725</td>\n",
       "      <td>Sahnewal</td>\n",
       "      <td>Birsa Munda</td>\n",
       "      <td>58</td>\n",
       "      <td>34</td>\n",
       "      <td>4</td>\n",
       "    </tr>\n",
       "    <tr>\n",
       "      <th>2</th>\n",
       "      <td>1159113803</td>\n",
       "      <td>1159113831</td>\n",
       "      <td>75.933060</td>\n",
       "      <td>17.625415</td>\n",
       "      <td>85.323597</td>\n",
       "      <td>23.317725</td>\n",
       "      <td>Solapur</td>\n",
       "      <td>Birsa Munda</td>\n",
       "      <td>9</td>\n",
       "      <td>34</td>\n",
       "      <td>10</td>\n",
       "    </tr>\n",
       "    <tr>\n",
       "      <th>3</th>\n",
       "      <td>1159113785</td>\n",
       "      <td>1159113845</td>\n",
       "      <td>75.957072</td>\n",
       "      <td>30.850360</td>\n",
       "      <td>48.747107</td>\n",
       "      <td>31.343159</td>\n",
       "      <td>Sahnewal</td>\n",
       "      <td>Ahwaz</td>\n",
       "      <td>58</td>\n",
       "      <td>42</td>\n",
       "      <td>15</td>\n",
       "    </tr>\n",
       "    <tr>\n",
       "      <th>4</th>\n",
       "      <td>1159113803</td>\n",
       "      <td>1159113845</td>\n",
       "      <td>75.933060</td>\n",
       "      <td>17.625415</td>\n",
       "      <td>48.747107</td>\n",
       "      <td>31.343159</td>\n",
       "      <td>Solapur</td>\n",
       "      <td>Ahwaz</td>\n",
       "      <td>9</td>\n",
       "      <td>42</td>\n",
       "      <td>50</td>\n",
       "    </tr>\n",
       "  </tbody>\n",
       "</table>\n",
       "</div>"
      ],
      "text/plain": [
       "       origin  destination  lon_origin  lat_origin  lon_destination  \\\n",
       "0  1159113785   1159113803   75.957072   30.850360        75.933060   \n",
       "1  1159113785   1159113831   75.957072   30.850360        85.323597   \n",
       "2  1159113803   1159113831   75.933060   17.625415        85.323597   \n",
       "3  1159113785   1159113845   75.957072   30.850360        48.747107   \n",
       "4  1159113803   1159113845   75.933060   17.625415        48.747107   \n",
       "\n",
       "   lat_destination name_origin name_destination  cases_origin  \\\n",
       "0        17.625415    Sahnewal          Solapur            58   \n",
       "1        23.317725    Sahnewal      Birsa Munda            58   \n",
       "2        23.317725     Solapur      Birsa Munda             9   \n",
       "3        31.343159    Sahnewal            Ahwaz            58   \n",
       "4        31.343159     Solapur            Ahwaz             9   \n",
       "\n",
       "   cases_destination  flow value  \n",
       "0                  9          92  \n",
       "1                 34           4  \n",
       "2                 34          10  \n",
       "3                 42          15  \n",
       "4                 42          50  "
      ]
     },
     "execution_count": 76,
     "metadata": {},
     "output_type": "execute_result"
    }
   ],
   "source": [
    "import random \n",
    "od_pairs_df.loc[:, \"flow value\"] = random.choices(range(1, 100), k = od_pairs_df.shape[0])\n",
    "od_pairs_df.head()"
   ]
  },
  {
   "cell_type": "code",
   "execution_count": 77,
   "metadata": {},
   "outputs": [
    {
     "data": {
      "text/plain": [
       "<Axes: >"
      ]
     },
     "execution_count": 77,
     "metadata": {},
     "output_type": "execute_result"
    },
    {
     "data": {
      "image/png": "[encoded data removed]",
      "text/plain": [
       "<Figure size 640x480 with 1 Axes>"
      ]
     },
     "metadata": {},
     "output_type": "display_data"
    }
   ],
   "source": [
    "# filter out only destinations is in china \n",
    "\n",
    "od_pairs_gdf_dest_china = gpd.GeoDataFrame(od_pairs_df, \n",
    "                                           geometry=gpd.points_from_xy(od_pairs_df.lon_destination, od_pairs_df.lat_destination),crs=\"EPSG:4326\")\n",
    "od_pairs_gdf_dest_china.plot()"
   ]
  },
  {
   "cell_type": "code",
   "execution_count": 78,
   "metadata": {},
   "outputs": [
    {
     "data": {
      "text/plain": [
       "(398278, 12)"
      ]
     },
     "execution_count": 78,
     "metadata": {},
     "output_type": "execute_result"
    }
   ],
   "source": [
    "od_pairs_gdf_dest_china.shape"
   ]
  },
  {
   "cell_type": "code",
   "execution_count": 79,
   "metadata": {},
   "outputs": [
    {
     "name": "stderr",
     "output_type": "stream",
     "text": [
      "/var/folders/f0/xl6nrz1n02bd52xdnrwb70w80000gn/T/ipykernel_71281/3205139528.py:2: FutureWarning: The geopandas.dataset module is deprecated and will be removed in GeoPandas 1.0. You can get the original 'naturalearth_lowres' data from https://www.naturalearthdata.com/downloads/110m-cultural-vectors/.\n",
      "  world = gpd.read_file(gpd.datasets.get_path('naturalearth_lowres'))\n"
     ]
    },
    {
     "data": {
      "text/html": [
       "<div>\n",
       "<style scoped>\n",
       "    .dataframe tbody tr th:only-of-type {\n",
       "        vertical-align: middle;\n",
       "    }\n",
       "\n",
       "    .dataframe tbody tr th {\n",
       "        vertical-align: top;\n",
       "    }\n",
       "\n",
       "    .dataframe thead th {\n",
       "        text-align: right;\n",
       "    }\n",
       "</style>\n",
       "<table border=\"1\" class=\"dataframe\">\n",
       "  <thead>\n",
       "    <tr style=\"text-align: right;\">\n",
       "      <th></th>\n",
       "      <th>pop_est</th>\n",
       "      <th>continent</th>\n",
       "      <th>name</th>\n",
       "      <th>iso_a3</th>\n",
       "      <th>gdp_md_est</th>\n",
       "      <th>geometry</th>\n",
       "    </tr>\n",
       "  </thead>\n",
       "  <tbody>\n",
       "    <tr>\n",
       "      <th>0</th>\n",
       "      <td>889953.0</td>\n",
       "      <td>Oceania</td>\n",
       "      <td>Fiji</td>\n",
       "      <td>FJI</td>\n",
       "      <td>5496</td>\n",
       "      <td>MULTIPOLYGON (((180.00000 -16.06713, 180.00000...</td>\n",
       "    </tr>\n",
       "    <tr>\n",
       "      <th>1</th>\n",
       "      <td>58005463.0</td>\n",
       "      <td>Africa</td>\n",
       "      <td>Tanzania</td>\n",
       "      <td>TZA</td>\n",
       "      <td>63177</td>\n",
       "      <td>POLYGON ((33.90371 -0.95000, 34.07262 -1.05982...</td>\n",
       "    </tr>\n",
       "    <tr>\n",
       "      <th>2</th>\n",
       "      <td>603253.0</td>\n",
       "      <td>Africa</td>\n",
       "      <td>W. Sahara</td>\n",
       "      <td>ESH</td>\n",
       "      <td>907</td>\n",
       "      <td>POLYGON ((-8.66559 27.65643, -8.66512 27.58948...</td>\n",
       "    </tr>\n",
       "    <tr>\n",
       "      <th>3</th>\n",
       "      <td>37589262.0</td>\n",
       "      <td>North America</td>\n",
       "      <td>Canada</td>\n",
       "      <td>CAN</td>\n",
       "      <td>1736425</td>\n",
       "      <td>MULTIPOLYGON (((-122.84000 49.00000, -122.9742...</td>\n",
       "    </tr>\n",
       "    <tr>\n",
       "      <th>4</th>\n",
       "      <td>328239523.0</td>\n",
       "      <td>North America</td>\n",
       "      <td>United States of America</td>\n",
       "      <td>USA</td>\n",
       "      <td>21433226</td>\n",
       "      <td>MULTIPOLYGON (((-122.84000 49.00000, -120.0000...</td>\n",
       "    </tr>\n",
       "  </tbody>\n",
       "</table>\n",
       "</div>"
      ],
      "text/plain": [
       "       pop_est      continent                      name iso_a3  gdp_md_est  \\\n",
       "0     889953.0        Oceania                      Fiji    FJI        5496   \n",
       "1   58005463.0         Africa                  Tanzania    TZA       63177   \n",
       "2     603253.0         Africa                 W. Sahara    ESH         907   \n",
       "3   37589262.0  North America                    Canada    CAN     1736425   \n",
       "4  328239523.0  North America  United States of America    USA    21433226   \n",
       "\n",
       "                                            geometry  \n",
       "0  MULTIPOLYGON (((180.00000 -16.06713, 180.00000...  \n",
       "1  POLYGON ((33.90371 -0.95000, 34.07262 -1.05982...  \n",
       "2  POLYGON ((-8.66559 27.65643, -8.66512 27.58948...  \n",
       "3  MULTIPOLYGON (((-122.84000 49.00000, -122.9742...  \n",
       "4  MULTIPOLYGON (((-122.84000 49.00000, -120.0000...  "
      ]
     },
     "execution_count": 79,
     "metadata": {},
     "output_type": "execute_result"
    }
   ],
   "source": [
    "# read the world map\n",
    "world = gpd.read_file(gpd.datasets.get_path('naturalearth_lowres'))\n",
    "world.head()"
   ]
  },
  {
   "cell_type": "code",
   "execution_count": 80,
   "metadata": {},
   "outputs": [
    {
     "data": {
      "text/plain": [
       "<Axes: >"
      ]
     },
     "execution_count": 80,
     "metadata": {},
     "output_type": "execute_result"
    },
    {
     "data": {
      "image/png": "[encoded data removed]",
      "text/plain": [
       "<Figure size 640x480 with 1 Axes>"
      ]
     },
     "metadata": {},
     "output_type": "display_data"
    }
   ],
   "source": [
    "china = world[world.name.map(lambda x: x in [\"China\", \"Taiwan\"])]\n",
    "china.plot()"
   ]
  },
  {
   "cell_type": "code",
   "execution_count": 81,
   "metadata": {},
   "outputs": [
    {
     "name": "stderr",
     "output_type": "stream",
     "text": [
      "/opt/homebrew/Caskroom/mambaforge/base/lib/python3.11/site-packages/IPython/core/interactiveshell.py:3448: FutureWarning: The `op` parameter is deprecated and will be removed in a future release. Please use the `predicate` parameter instead.\n",
      "  if await self.run_code(code, result, async_=asy):\n"
     ]
    }
   ],
   "source": [
    "od_pairs_gdf_dest_china_ = gpd.sjoin(od_pairs_gdf_dest_china, china, op='within')\n"
   ]
  },
  {
   "cell_type": "code",
   "execution_count": 85,
   "metadata": {},
   "outputs": [
    {
     "data": {
      "text/plain": [
       "Index(['origin', 'destination', 'lon_origin', 'lat_origin', 'lon_destination',\n",
       "       'lat_destination', 'name_origin', 'name_destination', 'cases_origin',\n",
       "       'cases_destination', 'flow value', 'geometry', 'index_right', 'pop_est',\n",
       "       'continent', 'name', 'iso_a3', 'gdp_md_est'],\n",
       "      dtype='object')"
      ]
     },
     "execution_count": 85,
     "metadata": {},
     "output_type": "execute_result"
    }
   ],
   "source": [
    "od_pairs_gdf_dest_china_.columns"
   ]
  },
  {
   "cell_type": "code",
   "execution_count": 86,
   "metadata": {},
   "outputs": [
    {
     "data": {
      "text/plain": [
       "(18121, 18)"
      ]
     },
     "execution_count": 86,
     "metadata": {},
     "output_type": "execute_result"
    }
   ],
   "source": [
    "od_pairs_gdf_dest_china_.shape"
   ]
  },
  {
   "cell_type": "code",
   "execution_count": 87,
   "metadata": {},
   "outputs": [
    {
     "data": {
      "text/plain": [
       "<Axes: >"
      ]
     },
     "execution_count": 87,
     "metadata": {},
     "output_type": "execute_result"
    },
    {
     "data": {
      "image/png": "[encoded data removed]",
      "text/plain": [
       "<Figure size 640x480 with 1 Axes>"
      ]
     },
     "metadata": {},
     "output_type": "display_data"
    }
   ],
   "source": [
    "od_pairs_gdf_dest_china_.plot()"
   ]
  },
  {
   "cell_type": "code",
   "execution_count": 88,
   "metadata": {},
   "outputs": [],
   "source": [
    "od_pairs_gdf_dest_china_[['origin', 'destination', 'lon_origin', 'lat_origin', 'lon_destination',\n",
    "       'lat_destination', 'name_origin', 'name_destination', 'cases_origin',\n",
    "       'cases_destination', 'flow value', 'index_right', 'pop_est',\n",
    "       'continent', 'name', 'iso_a3', 'gdp_md_est']].to_csv(\"od_pairs.csv\", index=False)"
   ]
  },
  {
   "cell_type": "code",
   "execution_count": 3,
   "metadata": {},
   "outputs": [
    {
     "data": {
      "text/html": [
       "<div>\n",
       "<style scoped>\n",
       "    .dataframe tbody tr th:only-of-type {\n",
       "        vertical-align: middle;\n",
       "    }\n",
       "\n",
       "    .dataframe tbody tr th {\n",
       "        vertical-align: top;\n",
       "    }\n",
       "\n",
       "    .dataframe thead th {\n",
       "        text-align: right;\n",
       "    }\n",
       "</style>\n",
       "<table border=\"1\" class=\"dataframe\">\n",
       "  <thead>\n",
       "    <tr style=\"text-align: right;\">\n",
       "      <th></th>\n",
       "      <th>origin</th>\n",
       "      <th>destination</th>\n",
       "      <th>lon_origin</th>\n",
       "      <th>lat_origin</th>\n",
       "      <th>lon_destination</th>\n",
       "      <th>lat_destination</th>\n",
       "      <th>name_origin</th>\n",
       "      <th>name_destination</th>\n",
       "      <th>cases_origin</th>\n",
       "      <th>cases_destination</th>\n",
       "      <th>flow value</th>\n",
       "      <th>index_right</th>\n",
       "      <th>pop_est</th>\n",
       "      <th>continent</th>\n",
       "      <th>name</th>\n",
       "      <th>iso_a3</th>\n",
       "      <th>gdp_md_est</th>\n",
       "    </tr>\n",
       "  </thead>\n",
       "  <tbody>\n",
       "    <tr>\n",
       "      <th>0</th>\n",
       "      <td>1159113785</td>\n",
       "      <td>1159114373</td>\n",
       "      <td>75.957072</td>\n",
       "      <td>30.850360</td>\n",
       "      <td>120.209733</td>\n",
       "      <td>22.950668</td>\n",
       "      <td>Sahnewal</td>\n",
       "      <td>Tainan</td>\n",
       "      <td>58</td>\n",
       "      <td>98</td>\n",
       "      <td>68</td>\n",
       "      <td>140</td>\n",
       "      <td>23568378.0</td>\n",
       "      <td>Asia</td>\n",
       "      <td>Taiwan</td>\n",
       "      <td>TWN</td>\n",
       "      <td>1127000</td>\n",
       "    </tr>\n",
       "    <tr>\n",
       "      <th>1</th>\n",
       "      <td>1159113803</td>\n",
       "      <td>1159114373</td>\n",
       "      <td>75.933060</td>\n",
       "      <td>17.625415</td>\n",
       "      <td>120.209733</td>\n",
       "      <td>22.950668</td>\n",
       "      <td>Solapur</td>\n",
       "      <td>Tainan</td>\n",
       "      <td>9</td>\n",
       "      <td>98</td>\n",
       "      <td>54</td>\n",
       "      <td>140</td>\n",
       "      <td>23568378.0</td>\n",
       "      <td>Asia</td>\n",
       "      <td>Taiwan</td>\n",
       "      <td>TWN</td>\n",
       "      <td>1127000</td>\n",
       "    </tr>\n",
       "    <tr>\n",
       "      <th>2</th>\n",
       "      <td>1159113831</td>\n",
       "      <td>1159114373</td>\n",
       "      <td>85.323597</td>\n",
       "      <td>23.317725</td>\n",
       "      <td>120.209733</td>\n",
       "      <td>22.950668</td>\n",
       "      <td>Birsa Munda</td>\n",
       "      <td>Tainan</td>\n",
       "      <td>34</td>\n",
       "      <td>98</td>\n",
       "      <td>17</td>\n",
       "      <td>140</td>\n",
       "      <td>23568378.0</td>\n",
       "      <td>Asia</td>\n",
       "      <td>Taiwan</td>\n",
       "      <td>TWN</td>\n",
       "      <td>1127000</td>\n",
       "    </tr>\n",
       "    <tr>\n",
       "      <th>3</th>\n",
       "      <td>1159113845</td>\n",
       "      <td>1159114373</td>\n",
       "      <td>48.747107</td>\n",
       "      <td>31.343159</td>\n",
       "      <td>120.209733</td>\n",
       "      <td>22.950668</td>\n",
       "      <td>Ahwaz</td>\n",
       "      <td>Tainan</td>\n",
       "      <td>42</td>\n",
       "      <td>98</td>\n",
       "      <td>22</td>\n",
       "      <td>140</td>\n",
       "      <td>23568378.0</td>\n",
       "      <td>Asia</td>\n",
       "      <td>Taiwan</td>\n",
       "      <td>TWN</td>\n",
       "      <td>1127000</td>\n",
       "    </tr>\n",
       "    <tr>\n",
       "      <th>4</th>\n",
       "      <td>1159113863</td>\n",
       "      <td>1159114373</td>\n",
       "      <td>78.217219</td>\n",
       "      <td>26.285488</td>\n",
       "      <td>120.209733</td>\n",
       "      <td>22.950668</td>\n",
       "      <td>Gwalior</td>\n",
       "      <td>Tainan</td>\n",
       "      <td>87</td>\n",
       "      <td>98</td>\n",
       "      <td>17</td>\n",
       "      <td>140</td>\n",
       "      <td>23568378.0</td>\n",
       "      <td>Asia</td>\n",
       "      <td>Taiwan</td>\n",
       "      <td>TWN</td>\n",
       "      <td>1127000</td>\n",
       "    </tr>\n",
       "  </tbody>\n",
       "</table>\n",
       "</div>"
      ],
      "text/plain": [
       "       origin  destination  lon_origin  lat_origin  lon_destination  \\\n",
       "0  1159113785   1159114373   75.957072   30.850360       120.209733   \n",
       "1  1159113803   1159114373   75.933060   17.625415       120.209733   \n",
       "2  1159113831   1159114373   85.323597   23.317725       120.209733   \n",
       "3  1159113845   1159114373   48.747107   31.343159       120.209733   \n",
       "4  1159113863   1159114373   78.217219   26.285488       120.209733   \n",
       "\n",
       "   lat_destination  name_origin name_destination  cases_origin  \\\n",
       "0        22.950668     Sahnewal           Tainan            58   \n",
       "1        22.950668      Solapur           Tainan             9   \n",
       "2        22.950668  Birsa Munda           Tainan            34   \n",
       "3        22.950668        Ahwaz           Tainan            42   \n",
       "4        22.950668      Gwalior           Tainan            87   \n",
       "\n",
       "   cases_destination  flow value  index_right     pop_est continent    name  \\\n",
       "0                 98          68          140  23568378.0      Asia  Taiwan   \n",
       "1                 98          54          140  23568378.0      Asia  Taiwan   \n",
       "2                 98          17          140  23568378.0      Asia  Taiwan   \n",
       "3                 98          22          140  23568378.0      Asia  Taiwan   \n",
       "4                 98          17          140  23568378.0      Asia  Taiwan   \n",
       "\n",
       "  iso_a3  gdp_md_est  \n",
       "0    TWN     1127000  \n",
       "1    TWN     1127000  \n",
       "2    TWN     1127000  \n",
       "3    TWN     1127000  \n",
       "4    TWN     1127000  "
      ]
     },
     "execution_count": 3,
     "metadata": {},
     "output_type": "execute_result"
    }
   ],
   "source": [
    "import pandas as pd\n",
    "od_pairs_gdf_dest_china_ = pd.read_csv(\"od_pairs.csv\")\n",
    "od_pairs_gdf_dest_china_.head()"
   ]
  },
  {
   "cell_type": "code",
   "execution_count": 4,
   "metadata": {},
   "outputs": [
    {
     "data": {
      "text/plain": [
       "origin                 int64\n",
       "destination            int64\n",
       "lon_origin           float64\n",
       "lat_origin           float64\n",
       "lon_destination      float64\n",
       "lat_destination      float64\n",
       "name_origin           object\n",
       "name_destination      object\n",
       "cases_origin           int64\n",
       "cases_destination      int64\n",
       "flow value             int64\n",
       "index_right            int64\n",
       "pop_est              float64\n",
       "continent             object\n",
       "name                  object\n",
       "iso_a3                object\n",
       "gdp_md_est             int64\n",
       "dtype: object"
      ]
     },
     "execution_count": 4,
     "metadata": {},
     "output_type": "execute_result"
    }
   ],
   "source": [
    "od_pairs_gdf_dest_china_.dtypes"
   ]
  }
 ],
 "metadata": {
  "kernelspec": {
   "display_name": "base",
   "language": "python",
   "name": "python3"
  },
  "language_info": {
   "codemirror_mode": {
    "name": "ipython",
    "version": 3
   },
   "file_extension": ".py",
   "mimetype": "text/x-python",
   "name": "python",
   "nbconvert_exporter": "python",
   "pygments_lexer": "ipython3",
   "version": "3.11.4"
  },
  "orig_nbformat": 4
 },
 "nbformat": 4,
 "nbformat_minor": 2
}
